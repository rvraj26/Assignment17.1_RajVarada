{
 "cells": [
  {
   "cell_type": "markdown",
   "metadata": {
    "id": "7rDGXhC8QEvX"
   },
   "source": [
    "# Practical Application III: Comparing Classifiers\n",
    "\n",
    "**Overview**: In this practical application, your goal is to compare the performance of the classifiers we encountered in this section, namely K Nearest Neighbor, Logistic Regression, Decision Trees, and Support Vector Machines.  We will utilize a dataset related to marketing bank products over the telephone.  \n",
    "\n"
   ]
  },
  {
   "cell_type": "markdown",
   "metadata": {
    "id": "nreCyxsvQEvY"
   },
   "source": [
    "### Getting Started\n",
    "\n",
    "Our dataset comes from the UCI Machine Learning repository [link](https://archive.ics.uci.edu/ml/datasets/bank+marketing).  The data is from a Portugese banking institution and is a collection of the results of multiple marketing campaigns.  We will make use of the article accompanying the dataset [here](CRISP-DM-BANK.pdf) for more information on the data and features.\n",
    "\n"
   ]
  },
  {
   "cell_type": "markdown",
   "metadata": {
    "id": "Uq_xZiwTQEvZ"
   },
   "source": [
    "### Problem 1: Understanding the Data\n",
    "\n",
    "To gain a better understanding of the data, please read the information provided in the UCI link above, and examine the **Materials and Methods** section of the paper.  How many marketing campaigns does this data represent?"
   ]
  },
  {
   "cell_type": "markdown",
   "metadata": {
    "id": "nrBdrR1qYHb_"
   },
   "source": [
    "bank-additional-full.csv with all examples (41188) and 20 inputs, ordered by date (from May 2008 to November 2010)"
   ]
  },
  {
   "cell_type": "markdown",
   "metadata": {
    "id": "ztc2nACoQEva"
   },
   "source": [
    "### Problem 2: Read in the Data\n",
    "\n",
    "Use pandas to read in the dataset `bank-additional-full.csv` and assign to a meaningful variable name."
   ]
  },
  {
   "cell_type": "code",
   "execution_count": 1,
   "metadata": {
    "executionInfo": {
     "elapsed": 3388,
     "status": "ok",
     "timestamp": 1706980989508,
     "user": {
      "displayName": "Girish Natarajan",
      "userId": "10926076535768638591"
     },
     "user_tz": 480
    },
    "id": "q0A9-QivQEva"
   },
   "outputs": [],
   "source": [
    "import pandas as pd\n",
    "import numpy as np\n",
    "import seaborn as sns\n",
    "import matplotlib.pyplot as plt\n",
    "import time\n",
    "import warnings\n",
    "warnings.filterwarnings('ignore')\n",
    "\n",
    "from sklearn.model_selection import train_test_split, GridSearchCV, cross_val_score\n",
    "from sklearn.dummy import DummyClassifier\n",
    "from sklearn.neighbors import KNeighborsClassifier\n",
    "from sklearn.linear_model import LogisticRegression, SGDClassifier\n",
    "from sklearn.tree import DecisionTreeClassifier\n",
    "from sklearn.svm import SVC\n",
    "from sklearn.preprocessing import OneHotEncoder, StandardScaler\n",
    "from sklearn.compose import make_column_transformer\n",
    "from sklearn.pipeline import Pipeline\n",
    "from sklearn.metrics import accuracy_score, classification_report, confusion_matrix\n",
    "from sklearn.metrics import ConfusionMatrixDisplay\n",
    "\n"
   ]
  },
  {
   "cell_type": "code",
   "execution_count": 2,
   "metadata": {
    "executionInfo": {
     "elapsed": 1239,
     "status": "ok",
     "timestamp": 1706981013732,
     "user": {
      "displayName": "Girish Natarajan",
      "userId": "10926076535768638591"
     },
     "user_tz": 480
    },
    "id": "0YgyN_nSQEva"
   },
   "outputs": [],
   "source": [
    "df = pd.read_csv('data/bank-additional-full.csv', sep = ';')"
   ]
  },
  {
   "cell_type": "code",
   "execution_count": 3,
   "metadata": {
    "colab": {
     "base_uri": "https://localhost:8080/",
     "height": 255
    },
    "executionInfo": {
     "elapsed": 8,
     "status": "ok",
     "timestamp": 1706981013733,
     "user": {
      "displayName": "Girish Natarajan",
      "userId": "10926076535768638591"
     },
     "user_tz": 480
    },
    "id": "ozjbjKbxQEva",
    "outputId": "7782d9b2-da63-4cd1-fb2c-4480e49afaa4"
   },
   "outputs": [
    {
     "data": {
      "text/html": [
       "<div>\n",
       "<style scoped>\n",
       "    .dataframe tbody tr th:only-of-type {\n",
       "        vertical-align: middle;\n",
       "    }\n",
       "\n",
       "    .dataframe tbody tr th {\n",
       "        vertical-align: top;\n",
       "    }\n",
       "\n",
       "    .dataframe thead th {\n",
       "        text-align: right;\n",
       "    }\n",
       "</style>\n",
       "<table border=\"1\" class=\"dataframe\">\n",
       "  <thead>\n",
       "    <tr style=\"text-align: right;\">\n",
       "      <th></th>\n",
       "      <th>age</th>\n",
       "      <th>job</th>\n",
       "      <th>marital</th>\n",
       "      <th>education</th>\n",
       "      <th>default</th>\n",
       "      <th>housing</th>\n",
       "      <th>loan</th>\n",
       "      <th>contact</th>\n",
       "      <th>month</th>\n",
       "      <th>day_of_week</th>\n",
       "      <th>...</th>\n",
       "      <th>campaign</th>\n",
       "      <th>pdays</th>\n",
       "      <th>previous</th>\n",
       "      <th>poutcome</th>\n",
       "      <th>emp.var.rate</th>\n",
       "      <th>cons.price.idx</th>\n",
       "      <th>cons.conf.idx</th>\n",
       "      <th>euribor3m</th>\n",
       "      <th>nr.employed</th>\n",
       "      <th>y</th>\n",
       "    </tr>\n",
       "  </thead>\n",
       "  <tbody>\n",
       "    <tr>\n",
       "      <th>0</th>\n",
       "      <td>56</td>\n",
       "      <td>housemaid</td>\n",
       "      <td>married</td>\n",
       "      <td>basic.4y</td>\n",
       "      <td>no</td>\n",
       "      <td>no</td>\n",
       "      <td>no</td>\n",
       "      <td>telephone</td>\n",
       "      <td>may</td>\n",
       "      <td>mon</td>\n",
       "      <td>...</td>\n",
       "      <td>1</td>\n",
       "      <td>999</td>\n",
       "      <td>0</td>\n",
       "      <td>nonexistent</td>\n",
       "      <td>1.1</td>\n",
       "      <td>93.994</td>\n",
       "      <td>-36.4</td>\n",
       "      <td>4.857</td>\n",
       "      <td>5191.0</td>\n",
       "      <td>no</td>\n",
       "    </tr>\n",
       "    <tr>\n",
       "      <th>1</th>\n",
       "      <td>57</td>\n",
       "      <td>services</td>\n",
       "      <td>married</td>\n",
       "      <td>high.school</td>\n",
       "      <td>unknown</td>\n",
       "      <td>no</td>\n",
       "      <td>no</td>\n",
       "      <td>telephone</td>\n",
       "      <td>may</td>\n",
       "      <td>mon</td>\n",
       "      <td>...</td>\n",
       "      <td>1</td>\n",
       "      <td>999</td>\n",
       "      <td>0</td>\n",
       "      <td>nonexistent</td>\n",
       "      <td>1.1</td>\n",
       "      <td>93.994</td>\n",
       "      <td>-36.4</td>\n",
       "      <td>4.857</td>\n",
       "      <td>5191.0</td>\n",
       "      <td>no</td>\n",
       "    </tr>\n",
       "    <tr>\n",
       "      <th>2</th>\n",
       "      <td>37</td>\n",
       "      <td>services</td>\n",
       "      <td>married</td>\n",
       "      <td>high.school</td>\n",
       "      <td>no</td>\n",
       "      <td>yes</td>\n",
       "      <td>no</td>\n",
       "      <td>telephone</td>\n",
       "      <td>may</td>\n",
       "      <td>mon</td>\n",
       "      <td>...</td>\n",
       "      <td>1</td>\n",
       "      <td>999</td>\n",
       "      <td>0</td>\n",
       "      <td>nonexistent</td>\n",
       "      <td>1.1</td>\n",
       "      <td>93.994</td>\n",
       "      <td>-36.4</td>\n",
       "      <td>4.857</td>\n",
       "      <td>5191.0</td>\n",
       "      <td>no</td>\n",
       "    </tr>\n",
       "    <tr>\n",
       "      <th>3</th>\n",
       "      <td>40</td>\n",
       "      <td>admin.</td>\n",
       "      <td>married</td>\n",
       "      <td>basic.6y</td>\n",
       "      <td>no</td>\n",
       "      <td>no</td>\n",
       "      <td>no</td>\n",
       "      <td>telephone</td>\n",
       "      <td>may</td>\n",
       "      <td>mon</td>\n",
       "      <td>...</td>\n",
       "      <td>1</td>\n",
       "      <td>999</td>\n",
       "      <td>0</td>\n",
       "      <td>nonexistent</td>\n",
       "      <td>1.1</td>\n",
       "      <td>93.994</td>\n",
       "      <td>-36.4</td>\n",
       "      <td>4.857</td>\n",
       "      <td>5191.0</td>\n",
       "      <td>no</td>\n",
       "    </tr>\n",
       "    <tr>\n",
       "      <th>4</th>\n",
       "      <td>56</td>\n",
       "      <td>services</td>\n",
       "      <td>married</td>\n",
       "      <td>high.school</td>\n",
       "      <td>no</td>\n",
       "      <td>no</td>\n",
       "      <td>yes</td>\n",
       "      <td>telephone</td>\n",
       "      <td>may</td>\n",
       "      <td>mon</td>\n",
       "      <td>...</td>\n",
       "      <td>1</td>\n",
       "      <td>999</td>\n",
       "      <td>0</td>\n",
       "      <td>nonexistent</td>\n",
       "      <td>1.1</td>\n",
       "      <td>93.994</td>\n",
       "      <td>-36.4</td>\n",
       "      <td>4.857</td>\n",
       "      <td>5191.0</td>\n",
       "      <td>no</td>\n",
       "    </tr>\n",
       "  </tbody>\n",
       "</table>\n",
       "<p>5 rows × 21 columns</p>\n",
       "</div>"
      ],
      "text/plain": [
       "   age        job  marital    education  default housing loan    contact  \\\n",
       "0   56  housemaid  married     basic.4y       no      no   no  telephone   \n",
       "1   57   services  married  high.school  unknown      no   no  telephone   \n",
       "2   37   services  married  high.school       no     yes   no  telephone   \n",
       "3   40     admin.  married     basic.6y       no      no   no  telephone   \n",
       "4   56   services  married  high.school       no      no  yes  telephone   \n",
       "\n",
       "  month day_of_week  ...  campaign  pdays  previous     poutcome emp.var.rate  \\\n",
       "0   may         mon  ...         1    999         0  nonexistent          1.1   \n",
       "1   may         mon  ...         1    999         0  nonexistent          1.1   \n",
       "2   may         mon  ...         1    999         0  nonexistent          1.1   \n",
       "3   may         mon  ...         1    999         0  nonexistent          1.1   \n",
       "4   may         mon  ...         1    999         0  nonexistent          1.1   \n",
       "\n",
       "   cons.price.idx  cons.conf.idx  euribor3m  nr.employed   y  \n",
       "0          93.994          -36.4      4.857       5191.0  no  \n",
       "1          93.994          -36.4      4.857       5191.0  no  \n",
       "2          93.994          -36.4      4.857       5191.0  no  \n",
       "3          93.994          -36.4      4.857       5191.0  no  \n",
       "4          93.994          -36.4      4.857       5191.0  no  \n",
       "\n",
       "[5 rows x 21 columns]"
      ]
     },
     "execution_count": 3,
     "metadata": {},
     "output_type": "execute_result"
    }
   ],
   "source": [
    "df.head()"
   ]
  },
  {
   "cell_type": "markdown",
   "metadata": {
    "id": "ygn1wpfCQEvb"
   },
   "source": [
    "### Problem 3: Understanding the Features\n",
    "\n",
    "\n",
    "Examine the data description below, and determine if any of the features are missing values or need to be coerced to a different data type.\n",
    "\n",
    "\n",
    "```\n",
    "Input variables:\n",
    "# bank client data:\n",
    "1 - age (numeric)\n",
    "2 - job : type of job (categorical: 'admin.','blue-collar','entrepreneur','housemaid','management','retired','self-employed','services','student','technician','unemployed','unknown')\n",
    "3 - marital : marital status (categorical: 'divorced','married','single','unknown'; note: 'divorced' means divorced or widowed)\n",
    "4 - education (categorical: 'basic.4y','basic.6y','basic.9y','high.school','illiterate','professional.course','university.degree','unknown')\n",
    "5 - default: has credit in default? (categorical: 'no','yes','unknown')\n",
    "6 - housing: has housing loan? (categorical: 'no','yes','unknown')\n",
    "7 - loan: has personal loan? (categorical: 'no','yes','unknown')\n",
    "# related with the last contact of the current campaign:\n",
    "8 - contact: contact communication type (categorical: 'cellular','telephone')\n",
    "9 - month: last contact month of year (categorical: 'jan', 'feb', 'mar', ..., 'nov', 'dec')\n",
    "10 - day_of_week: last contact day of the week (categorical: 'mon','tue','wed','thu','fri')\n",
    "11 - duration: last contact duration, in seconds (numeric). Important note: this attribute highly affects the output target (e.g., if duration=0 then y='no'). Yet, the duration is not known before a call is performed. Also, after the end of the call y is obviously known. Thus, this input should only be included for benchmark purposes and should be discarded if the intention is to have a realistic predictive model.\n",
    "# other attributes:\n",
    "12 - campaign: number of contacts performed during this campaign and for this client (numeric, includes last contact)\n",
    "13 - pdays: number of days that passed by after the client was last contacted from a previous campaign (numeric; 999 means client was not previously contacted)\n",
    "14 - previous: number of contacts performed before this campaign and for this client (numeric)\n",
    "15 - poutcome: outcome of the previous marketing campaign (categorical: 'failure','nonexistent','success')\n",
    "# social and economic context attributes\n",
    "16 - emp.var.rate: employment variation rate - quarterly indicator (numeric)\n",
    "17 - cons.price.idx: consumer price index - monthly indicator (numeric)\n",
    "18 - cons.conf.idx: consumer confidence index - monthly indicator (numeric)\n",
    "19 - euribor3m: euribor 3 month rate - daily indicator (numeric)\n",
    "20 - nr.employed: number of employees - quarterly indicator (numeric)\n",
    "\n",
    "Output variable (desired target):\n",
    "21 - y - has the client subscribed a term deposit? (binary: 'yes','no')\n",
    "```\n",
    "\n"
   ]
  },
  {
   "cell_type": "code",
   "execution_count": 4,
   "metadata": {
    "colab": {
     "base_uri": "https://localhost:8080/"
    },
    "executionInfo": {
     "elapsed": 261,
     "status": "ok",
     "timestamp": 1706981013989,
     "user": {
      "displayName": "Girish Natarajan",
      "userId": "10926076535768638591"
     },
     "user_tz": 480
    },
    "id": "d0CBNyFRQEvc",
    "outputId": "7e9169f1-f104-4985-8009-aa00908e743e"
   },
   "outputs": [
    {
     "name": "stdout",
     "output_type": "stream",
     "text": [
      "<class 'pandas.core.frame.DataFrame'>\n",
      "RangeIndex: 41188 entries, 0 to 41187\n",
      "Data columns (total 21 columns):\n",
      " #   Column          Non-Null Count  Dtype  \n",
      "---  ------          --------------  -----  \n",
      " 0   age             41188 non-null  int64  \n",
      " 1   job             41188 non-null  object \n",
      " 2   marital         41188 non-null  object \n",
      " 3   education       41188 non-null  object \n",
      " 4   default         41188 non-null  object \n",
      " 5   housing         41188 non-null  object \n",
      " 6   loan            41188 non-null  object \n",
      " 7   contact         41188 non-null  object \n",
      " 8   month           41188 non-null  object \n",
      " 9   day_of_week     41188 non-null  object \n",
      " 10  duration        41188 non-null  int64  \n",
      " 11  campaign        41188 non-null  int64  \n",
      " 12  pdays           41188 non-null  int64  \n",
      " 13  previous        41188 non-null  int64  \n",
      " 14  poutcome        41188 non-null  object \n",
      " 15  emp.var.rate    41188 non-null  float64\n",
      " 16  cons.price.idx  41188 non-null  float64\n",
      " 17  cons.conf.idx   41188 non-null  float64\n",
      " 18  euribor3m       41188 non-null  float64\n",
      " 19  nr.employed     41188 non-null  float64\n",
      " 20  y               41188 non-null  object \n",
      "dtypes: float64(5), int64(5), object(11)\n",
      "memory usage: 6.6+ MB\n"
     ]
    }
   ],
   "source": [
    "df.info()"
   ]
  },
  {
   "cell_type": "code",
   "execution_count": 5,
   "metadata": {},
   "outputs": [
    {
     "data": {
      "text/plain": [
       "(41188, 21)"
      ]
     },
     "execution_count": 5,
     "metadata": {},
     "output_type": "execute_result"
    }
   ],
   "source": [
    "df.shape"
   ]
  },
  {
   "cell_type": "code",
   "execution_count": 6,
   "metadata": {},
   "outputs": [
    {
     "data": {
      "text/plain": [
       "y\n",
       "no     0.89\n",
       "yes    0.11\n",
       "Name: proportion, dtype: float64"
      ]
     },
     "execution_count": 6,
     "metadata": {},
     "output_type": "execute_result"
    }
   ],
   "source": [
    "df.y.value_counts(normalize=True).round(2)"
   ]
  },
  {
   "cell_type": "code",
   "execution_count": 7,
   "metadata": {},
   "outputs": [
    {
     "data": {
      "text/plain": [
       "np.int64(12)"
      ]
     },
     "execution_count": 7,
     "metadata": {},
     "output_type": "execute_result"
    }
   ],
   "source": [
    "df.duplicated().sum()"
   ]
  },
  {
   "cell_type": "code",
   "execution_count": 8,
   "metadata": {},
   "outputs": [
    {
     "data": {
      "text/plain": [
       "age               0\n",
       "job               0\n",
       "marital           0\n",
       "education         0\n",
       "default           0\n",
       "housing           0\n",
       "loan              0\n",
       "contact           0\n",
       "month             0\n",
       "day_of_week       0\n",
       "duration          0\n",
       "campaign          0\n",
       "pdays             0\n",
       "previous          0\n",
       "poutcome          0\n",
       "emp.var.rate      0\n",
       "cons.price.idx    0\n",
       "cons.conf.idx     0\n",
       "euribor3m         0\n",
       "nr.employed       0\n",
       "y                 0\n",
       "dtype: int64"
      ]
     },
     "execution_count": 8,
     "metadata": {},
     "output_type": "execute_result"
    }
   ],
   "source": [
    "df.isnull().sum()"
   ]
  },
  {
   "cell_type": "markdown",
   "metadata": {
    "id": "_O87bwPVaEem"
   },
   "source": [
    "### Observation about the dataset\n",
    "\n",
    "1. None of the columns have missing values.\n",
    "2. There are no duplicate entries. \n",
    "3. There are 21 features - 10 numeric and 11 categorical\n",
    "4. The categorical features can be updated as follows:\n",
    "   a. Three features, `default`, `housing`, and `loan` are yes/no values and can be converted to numeric 1/0 if needed\n",
    "   b. Two features, `month,` and `day_of_week,` can be converted to a number, 1..12 and 1..7 respectively.\n",
    "   c. The rest of the categorical features can be encoded with One Hot Encoding\n",
    "5. The numeric features can be scaled using StandardScalar.\n",
    "    "
   ]
  },
  {
   "cell_type": "markdown",
   "metadata": {
    "id": "VSwPJDneQEvc"
   },
   "source": [
    "### Problem 4: Understanding the Task\n",
    "\n",
    "After examining the description and data, your goal now is to clearly state the *Business Objective* of the task.  State the objective below."
   ]
  },
  {
   "cell_type": "markdown",
   "metadata": {},
   "source": [
    "#### Business Objective\n",
    "The business objective is to improve the effectiveness of a Portuguese bank's marketing efforts conducted over the telephone. The goal of the marketing effort is to get the customer to subscribe to a long-term product and reduce the cost of these efforts (customer acquisition cost). The primary objective of this assignment is to build a predictive model that can classify whether a customer contacted on the phone as part of this marketing campaign will sign up for the deposit product. This will help the bank to focus on customers with an excellent chance to sign up, to increase the percentage of customers who start a term deposit as a result of the campaign (effectiveness), and reduce the acquisition cost. \n",
    "\n",
    "This classification problem with the objective to identify the most predictive features influencing the classification outcome. The solution will compare the performance of different classification algorithms - k-nearest neighbors, logistic regression, decision trees, and support vector machines, to determine which model best predicts client subscription. "
   ]
  },
  {
   "cell_type": "markdown",
   "metadata": {
    "id": "zOxSh45OQEvc"
   },
   "source": [
    "### Problem 5: Engineering Features\n",
    "\n",
    "Now that you understand your business objective, we will build a basic model to get started.  Before we can do this, we must work to encode the data.  Using just the bank information features (columns 1 - 7), prepare the features and target column for modeling with appropriate encoding and transformations."
   ]
  },
  {
   "cell_type": "code",
   "execution_count": 9,
   "metadata": {},
   "outputs": [],
   "source": [
    "# The test dataset did not have any duplicates or NaNs. \n",
    "# I am including these here in case a different data set has these issues\n",
    "# drop any duplicates\n",
    "df = df.drop_duplicates()\n",
    "# Drop rows with missing values and reset the index\n",
    "df = df.dropna().reset_index(drop=True)"
   ]
  },
  {
   "cell_type": "code",
   "execution_count": 10,
   "metadata": {
    "colab": {
     "base_uri": "https://localhost:8080/",
     "height": 170
    },
    "executionInfo": {
     "elapsed": 12,
     "status": "ok",
     "timestamp": 1706981013989,
     "user": {
      "displayName": "Girish Natarajan",
      "userId": "10926076535768638591"
     },
     "user_tz": 480
    },
    "id": "NouPvuS0QEvc",
    "outputId": "e58493c4-ba50-4ba9-efb2-13fa6b83ad8a"
   },
   "outputs": [
    {
     "name": "stdout",
     "output_type": "stream",
     "text": [
      "y\n",
      "0    36537\n",
      "1     4639\n",
      "Name: count, dtype: int64\n"
     ]
    },
    {
     "data": {
      "text/html": [
       "<div>\n",
       "<style scoped>\n",
       "    .dataframe tbody tr th:only-of-type {\n",
       "        vertical-align: middle;\n",
       "    }\n",
       "\n",
       "    .dataframe tbody tr th {\n",
       "        vertical-align: top;\n",
       "    }\n",
       "\n",
       "    .dataframe thead th {\n",
       "        text-align: right;\n",
       "    }\n",
       "</style>\n",
       "<table border=\"1\" class=\"dataframe\">\n",
       "  <thead>\n",
       "    <tr style=\"text-align: right;\">\n",
       "      <th></th>\n",
       "      <th>age</th>\n",
       "      <th>job</th>\n",
       "      <th>marital</th>\n",
       "      <th>education</th>\n",
       "      <th>default</th>\n",
       "      <th>housing</th>\n",
       "      <th>loan</th>\n",
       "      <th>contact</th>\n",
       "      <th>month</th>\n",
       "      <th>day_of_week</th>\n",
       "      <th>...</th>\n",
       "      <th>campaign</th>\n",
       "      <th>pdays</th>\n",
       "      <th>previous</th>\n",
       "      <th>poutcome</th>\n",
       "      <th>emp.var.rate</th>\n",
       "      <th>cons.price.idx</th>\n",
       "      <th>cons.conf.idx</th>\n",
       "      <th>euribor3m</th>\n",
       "      <th>nr.employed</th>\n",
       "      <th>y</th>\n",
       "    </tr>\n",
       "  </thead>\n",
       "  <tbody>\n",
       "    <tr>\n",
       "      <th>0</th>\n",
       "      <td>56</td>\n",
       "      <td>housemaid</td>\n",
       "      <td>married</td>\n",
       "      <td>basic.4y</td>\n",
       "      <td>no</td>\n",
       "      <td>no</td>\n",
       "      <td>no</td>\n",
       "      <td>telephone</td>\n",
       "      <td>may</td>\n",
       "      <td>mon</td>\n",
       "      <td>...</td>\n",
       "      <td>1</td>\n",
       "      <td>999</td>\n",
       "      <td>0</td>\n",
       "      <td>nonexistent</td>\n",
       "      <td>1.1</td>\n",
       "      <td>93.994</td>\n",
       "      <td>-36.4</td>\n",
       "      <td>4.857</td>\n",
       "      <td>5191.0</td>\n",
       "      <td>0</td>\n",
       "    </tr>\n",
       "    <tr>\n",
       "      <th>1</th>\n",
       "      <td>57</td>\n",
       "      <td>services</td>\n",
       "      <td>married</td>\n",
       "      <td>high.school</td>\n",
       "      <td>unknown</td>\n",
       "      <td>no</td>\n",
       "      <td>no</td>\n",
       "      <td>telephone</td>\n",
       "      <td>may</td>\n",
       "      <td>mon</td>\n",
       "      <td>...</td>\n",
       "      <td>1</td>\n",
       "      <td>999</td>\n",
       "      <td>0</td>\n",
       "      <td>nonexistent</td>\n",
       "      <td>1.1</td>\n",
       "      <td>93.994</td>\n",
       "      <td>-36.4</td>\n",
       "      <td>4.857</td>\n",
       "      <td>5191.0</td>\n",
       "      <td>0</td>\n",
       "    </tr>\n",
       "    <tr>\n",
       "      <th>2</th>\n",
       "      <td>37</td>\n",
       "      <td>services</td>\n",
       "      <td>married</td>\n",
       "      <td>high.school</td>\n",
       "      <td>no</td>\n",
       "      <td>yes</td>\n",
       "      <td>no</td>\n",
       "      <td>telephone</td>\n",
       "      <td>may</td>\n",
       "      <td>mon</td>\n",
       "      <td>...</td>\n",
       "      <td>1</td>\n",
       "      <td>999</td>\n",
       "      <td>0</td>\n",
       "      <td>nonexistent</td>\n",
       "      <td>1.1</td>\n",
       "      <td>93.994</td>\n",
       "      <td>-36.4</td>\n",
       "      <td>4.857</td>\n",
       "      <td>5191.0</td>\n",
       "      <td>0</td>\n",
       "    </tr>\n",
       "    <tr>\n",
       "      <th>3</th>\n",
       "      <td>40</td>\n",
       "      <td>admin.</td>\n",
       "      <td>married</td>\n",
       "      <td>basic.6y</td>\n",
       "      <td>no</td>\n",
       "      <td>no</td>\n",
       "      <td>no</td>\n",
       "      <td>telephone</td>\n",
       "      <td>may</td>\n",
       "      <td>mon</td>\n",
       "      <td>...</td>\n",
       "      <td>1</td>\n",
       "      <td>999</td>\n",
       "      <td>0</td>\n",
       "      <td>nonexistent</td>\n",
       "      <td>1.1</td>\n",
       "      <td>93.994</td>\n",
       "      <td>-36.4</td>\n",
       "      <td>4.857</td>\n",
       "      <td>5191.0</td>\n",
       "      <td>0</td>\n",
       "    </tr>\n",
       "    <tr>\n",
       "      <th>4</th>\n",
       "      <td>56</td>\n",
       "      <td>services</td>\n",
       "      <td>married</td>\n",
       "      <td>high.school</td>\n",
       "      <td>no</td>\n",
       "      <td>no</td>\n",
       "      <td>yes</td>\n",
       "      <td>telephone</td>\n",
       "      <td>may</td>\n",
       "      <td>mon</td>\n",
       "      <td>...</td>\n",
       "      <td>1</td>\n",
       "      <td>999</td>\n",
       "      <td>0</td>\n",
       "      <td>nonexistent</td>\n",
       "      <td>1.1</td>\n",
       "      <td>93.994</td>\n",
       "      <td>-36.4</td>\n",
       "      <td>4.857</td>\n",
       "      <td>5191.0</td>\n",
       "      <td>0</td>\n",
       "    </tr>\n",
       "  </tbody>\n",
       "</table>\n",
       "<p>5 rows × 21 columns</p>\n",
       "</div>"
      ],
      "text/plain": [
       "   age        job  marital    education  default housing loan    contact  \\\n",
       "0   56  housemaid  married     basic.4y       no      no   no  telephone   \n",
       "1   57   services  married  high.school  unknown      no   no  telephone   \n",
       "2   37   services  married  high.school       no     yes   no  telephone   \n",
       "3   40     admin.  married     basic.6y       no      no   no  telephone   \n",
       "4   56   services  married  high.school       no      no  yes  telephone   \n",
       "\n",
       "  month day_of_week  ...  campaign  pdays  previous     poutcome emp.var.rate  \\\n",
       "0   may         mon  ...         1    999         0  nonexistent          1.1   \n",
       "1   may         mon  ...         1    999         0  nonexistent          1.1   \n",
       "2   may         mon  ...         1    999         0  nonexistent          1.1   \n",
       "3   may         mon  ...         1    999         0  nonexistent          1.1   \n",
       "4   may         mon  ...         1    999         0  nonexistent          1.1   \n",
       "\n",
       "   cons.price.idx  cons.conf.idx  euribor3m  nr.employed  y  \n",
       "0          93.994          -36.4      4.857       5191.0  0  \n",
       "1          93.994          -36.4      4.857       5191.0  0  \n",
       "2          93.994          -36.4      4.857       5191.0  0  \n",
       "3          93.994          -36.4      4.857       5191.0  0  \n",
       "4          93.994          -36.4      4.857       5191.0  0  \n",
       "\n",
       "[5 rows x 21 columns]"
      ]
     },
     "execution_count": 10,
     "metadata": {},
     "output_type": "execute_result"
    }
   ],
   "source": [
    "#Remap labels yes and no in feature `y` to 1 or 0\n",
    "df['y'] = df['y'].map({'yes':1, 'no':0})\n",
    "print(df['y'].value_counts())\n",
    "df.head()"
   ]
  },
  {
   "cell_type": "code",
   "execution_count": 11,
   "metadata": {},
   "outputs": [
    {
     "data": {
      "text/html": [
       "<style>#sk-container-id-1 {\n",
       "  /* Definition of color scheme common for light and dark mode */\n",
       "  --sklearn-color-text: black;\n",
       "  --sklearn-color-line: gray;\n",
       "  /* Definition of color scheme for unfitted estimators */\n",
       "  --sklearn-color-unfitted-level-0: #fff5e6;\n",
       "  --sklearn-color-unfitted-level-1: #f6e4d2;\n",
       "  --sklearn-color-unfitted-level-2: #ffe0b3;\n",
       "  --sklearn-color-unfitted-level-3: chocolate;\n",
       "  /* Definition of color scheme for fitted estimators */\n",
       "  --sklearn-color-fitted-level-0: #f0f8ff;\n",
       "  --sklearn-color-fitted-level-1: #d4ebff;\n",
       "  --sklearn-color-fitted-level-2: #b3dbfd;\n",
       "  --sklearn-color-fitted-level-3: cornflowerblue;\n",
       "\n",
       "  /* Specific color for light theme */\n",
       "  --sklearn-color-text-on-default-background: var(--sg-text-color, var(--theme-code-foreground, var(--jp-content-font-color1, black)));\n",
       "  --sklearn-color-background: var(--sg-background-color, var(--theme-background, var(--jp-layout-color0, white)));\n",
       "  --sklearn-color-border-box: var(--sg-text-color, var(--theme-code-foreground, var(--jp-content-font-color1, black)));\n",
       "  --sklearn-color-icon: #696969;\n",
       "\n",
       "  @media (prefers-color-scheme: dark) {\n",
       "    /* Redefinition of color scheme for dark theme */\n",
       "    --sklearn-color-text-on-default-background: var(--sg-text-color, var(--theme-code-foreground, var(--jp-content-font-color1, white)));\n",
       "    --sklearn-color-background: var(--sg-background-color, var(--theme-background, var(--jp-layout-color0, #111)));\n",
       "    --sklearn-color-border-box: var(--sg-text-color, var(--theme-code-foreground, var(--jp-content-font-color1, white)));\n",
       "    --sklearn-color-icon: #878787;\n",
       "  }\n",
       "}\n",
       "\n",
       "#sk-container-id-1 {\n",
       "  color: var(--sklearn-color-text);\n",
       "}\n",
       "\n",
       "#sk-container-id-1 pre {\n",
       "  padding: 0;\n",
       "}\n",
       "\n",
       "#sk-container-id-1 input.sk-hidden--visually {\n",
       "  border: 0;\n",
       "  clip: rect(1px 1px 1px 1px);\n",
       "  clip: rect(1px, 1px, 1px, 1px);\n",
       "  height: 1px;\n",
       "  margin: -1px;\n",
       "  overflow: hidden;\n",
       "  padding: 0;\n",
       "  position: absolute;\n",
       "  width: 1px;\n",
       "}\n",
       "\n",
       "#sk-container-id-1 div.sk-dashed-wrapped {\n",
       "  border: 1px dashed var(--sklearn-color-line);\n",
       "  margin: 0 0.4em 0.5em 0.4em;\n",
       "  box-sizing: border-box;\n",
       "  padding-bottom: 0.4em;\n",
       "  background-color: var(--sklearn-color-background);\n",
       "}\n",
       "\n",
       "#sk-container-id-1 div.sk-container {\n",
       "  /* jupyter's `normalize.less` sets `[hidden] { display: none; }`\n",
       "     but bootstrap.min.css set `[hidden] { display: none !important; }`\n",
       "     so we also need the `!important` here to be able to override the\n",
       "     default hidden behavior on the sphinx rendered scikit-learn.org.\n",
       "     See: https://github.com/scikit-learn/scikit-learn/issues/21755 */\n",
       "  display: inline-block !important;\n",
       "  position: relative;\n",
       "}\n",
       "\n",
       "#sk-container-id-1 div.sk-text-repr-fallback {\n",
       "  display: none;\n",
       "}\n",
       "\n",
       "div.sk-parallel-item,\n",
       "div.sk-serial,\n",
       "div.sk-item {\n",
       "  /* draw centered vertical line to link estimators */\n",
       "  background-image: linear-gradient(var(--sklearn-color-text-on-default-background), var(--sklearn-color-text-on-default-background));\n",
       "  background-size: 2px 100%;\n",
       "  background-repeat: no-repeat;\n",
       "  background-position: center center;\n",
       "}\n",
       "\n",
       "/* Parallel-specific style estimator block */\n",
       "\n",
       "#sk-container-id-1 div.sk-parallel-item::after {\n",
       "  content: \"\";\n",
       "  width: 100%;\n",
       "  border-bottom: 2px solid var(--sklearn-color-text-on-default-background);\n",
       "  flex-grow: 1;\n",
       "}\n",
       "\n",
       "#sk-container-id-1 div.sk-parallel {\n",
       "  display: flex;\n",
       "  align-items: stretch;\n",
       "  justify-content: center;\n",
       "  background-color: var(--sklearn-color-background);\n",
       "  position: relative;\n",
       "}\n",
       "\n",
       "#sk-container-id-1 div.sk-parallel-item {\n",
       "  display: flex;\n",
       "  flex-direction: column;\n",
       "}\n",
       "\n",
       "#sk-container-id-1 div.sk-parallel-item:first-child::after {\n",
       "  align-self: flex-end;\n",
       "  width: 50%;\n",
       "}\n",
       "\n",
       "#sk-container-id-1 div.sk-parallel-item:last-child::after {\n",
       "  align-self: flex-start;\n",
       "  width: 50%;\n",
       "}\n",
       "\n",
       "#sk-container-id-1 div.sk-parallel-item:only-child::after {\n",
       "  width: 0;\n",
       "}\n",
       "\n",
       "/* Serial-specific style estimator block */\n",
       "\n",
       "#sk-container-id-1 div.sk-serial {\n",
       "  display: flex;\n",
       "  flex-direction: column;\n",
       "  align-items: center;\n",
       "  background-color: var(--sklearn-color-background);\n",
       "  padding-right: 1em;\n",
       "  padding-left: 1em;\n",
       "}\n",
       "\n",
       "\n",
       "/* Toggleable style: style used for estimator/Pipeline/ColumnTransformer box that is\n",
       "clickable and can be expanded/collapsed.\n",
       "- Pipeline and ColumnTransformer use this feature and define the default style\n",
       "- Estimators will overwrite some part of the style using the `sk-estimator` class\n",
       "*/\n",
       "\n",
       "/* Pipeline and ColumnTransformer style (default) */\n",
       "\n",
       "#sk-container-id-1 div.sk-toggleable {\n",
       "  /* Default theme specific background. It is overwritten whether we have a\n",
       "  specific estimator or a Pipeline/ColumnTransformer */\n",
       "  background-color: var(--sklearn-color-background);\n",
       "}\n",
       "\n",
       "/* Toggleable label */\n",
       "#sk-container-id-1 label.sk-toggleable__label {\n",
       "  cursor: pointer;\n",
       "  display: block;\n",
       "  width: 100%;\n",
       "  margin-bottom: 0;\n",
       "  padding: 0.5em;\n",
       "  box-sizing: border-box;\n",
       "  text-align: center;\n",
       "}\n",
       "\n",
       "#sk-container-id-1 label.sk-toggleable__label-arrow:before {\n",
       "  /* Arrow on the left of the label */\n",
       "  content: \"▸\";\n",
       "  float: left;\n",
       "  margin-right: 0.25em;\n",
       "  color: var(--sklearn-color-icon);\n",
       "}\n",
       "\n",
       "#sk-container-id-1 label.sk-toggleable__label-arrow:hover:before {\n",
       "  color: var(--sklearn-color-text);\n",
       "}\n",
       "\n",
       "/* Toggleable content - dropdown */\n",
       "\n",
       "#sk-container-id-1 div.sk-toggleable__content {\n",
       "  max-height: 0;\n",
       "  max-width: 0;\n",
       "  overflow: hidden;\n",
       "  text-align: left;\n",
       "  /* unfitted */\n",
       "  background-color: var(--sklearn-color-unfitted-level-0);\n",
       "}\n",
       "\n",
       "#sk-container-id-1 div.sk-toggleable__content.fitted {\n",
       "  /* fitted */\n",
       "  background-color: var(--sklearn-color-fitted-level-0);\n",
       "}\n",
       "\n",
       "#sk-container-id-1 div.sk-toggleable__content pre {\n",
       "  margin: 0.2em;\n",
       "  border-radius: 0.25em;\n",
       "  color: var(--sklearn-color-text);\n",
       "  /* unfitted */\n",
       "  background-color: var(--sklearn-color-unfitted-level-0);\n",
       "}\n",
       "\n",
       "#sk-container-id-1 div.sk-toggleable__content.fitted pre {\n",
       "  /* unfitted */\n",
       "  background-color: var(--sklearn-color-fitted-level-0);\n",
       "}\n",
       "\n",
       "#sk-container-id-1 input.sk-toggleable__control:checked~div.sk-toggleable__content {\n",
       "  /* Expand drop-down */\n",
       "  max-height: 200px;\n",
       "  max-width: 100%;\n",
       "  overflow: auto;\n",
       "}\n",
       "\n",
       "#sk-container-id-1 input.sk-toggleable__control:checked~label.sk-toggleable__label-arrow:before {\n",
       "  content: \"▾\";\n",
       "}\n",
       "\n",
       "/* Pipeline/ColumnTransformer-specific style */\n",
       "\n",
       "#sk-container-id-1 div.sk-label input.sk-toggleable__control:checked~label.sk-toggleable__label {\n",
       "  color: var(--sklearn-color-text);\n",
       "  background-color: var(--sklearn-color-unfitted-level-2);\n",
       "}\n",
       "\n",
       "#sk-container-id-1 div.sk-label.fitted input.sk-toggleable__control:checked~label.sk-toggleable__label {\n",
       "  background-color: var(--sklearn-color-fitted-level-2);\n",
       "}\n",
       "\n",
       "/* Estimator-specific style */\n",
       "\n",
       "/* Colorize estimator box */\n",
       "#sk-container-id-1 div.sk-estimator input.sk-toggleable__control:checked~label.sk-toggleable__label {\n",
       "  /* unfitted */\n",
       "  background-color: var(--sklearn-color-unfitted-level-2);\n",
       "}\n",
       "\n",
       "#sk-container-id-1 div.sk-estimator.fitted input.sk-toggleable__control:checked~label.sk-toggleable__label {\n",
       "  /* fitted */\n",
       "  background-color: var(--sklearn-color-fitted-level-2);\n",
       "}\n",
       "\n",
       "#sk-container-id-1 div.sk-label label.sk-toggleable__label,\n",
       "#sk-container-id-1 div.sk-label label {\n",
       "  /* The background is the default theme color */\n",
       "  color: var(--sklearn-color-text-on-default-background);\n",
       "}\n",
       "\n",
       "/* On hover, darken the color of the background */\n",
       "#sk-container-id-1 div.sk-label:hover label.sk-toggleable__label {\n",
       "  color: var(--sklearn-color-text);\n",
       "  background-color: var(--sklearn-color-unfitted-level-2);\n",
       "}\n",
       "\n",
       "/* Label box, darken color on hover, fitted */\n",
       "#sk-container-id-1 div.sk-label.fitted:hover label.sk-toggleable__label.fitted {\n",
       "  color: var(--sklearn-color-text);\n",
       "  background-color: var(--sklearn-color-fitted-level-2);\n",
       "}\n",
       "\n",
       "/* Estimator label */\n",
       "\n",
       "#sk-container-id-1 div.sk-label label {\n",
       "  font-family: monospace;\n",
       "  font-weight: bold;\n",
       "  display: inline-block;\n",
       "  line-height: 1.2em;\n",
       "}\n",
       "\n",
       "#sk-container-id-1 div.sk-label-container {\n",
       "  text-align: center;\n",
       "}\n",
       "\n",
       "/* Estimator-specific */\n",
       "#sk-container-id-1 div.sk-estimator {\n",
       "  font-family: monospace;\n",
       "  border: 1px dotted var(--sklearn-color-border-box);\n",
       "  border-radius: 0.25em;\n",
       "  box-sizing: border-box;\n",
       "  margin-bottom: 0.5em;\n",
       "  /* unfitted */\n",
       "  background-color: var(--sklearn-color-unfitted-level-0);\n",
       "}\n",
       "\n",
       "#sk-container-id-1 div.sk-estimator.fitted {\n",
       "  /* fitted */\n",
       "  background-color: var(--sklearn-color-fitted-level-0);\n",
       "}\n",
       "\n",
       "/* on hover */\n",
       "#sk-container-id-1 div.sk-estimator:hover {\n",
       "  /* unfitted */\n",
       "  background-color: var(--sklearn-color-unfitted-level-2);\n",
       "}\n",
       "\n",
       "#sk-container-id-1 div.sk-estimator.fitted:hover {\n",
       "  /* fitted */\n",
       "  background-color: var(--sklearn-color-fitted-level-2);\n",
       "}\n",
       "\n",
       "/* Specification for estimator info (e.g. \"i\" and \"?\") */\n",
       "\n",
       "/* Common style for \"i\" and \"?\" */\n",
       "\n",
       ".sk-estimator-doc-link,\n",
       "a:link.sk-estimator-doc-link,\n",
       "a:visited.sk-estimator-doc-link {\n",
       "  float: right;\n",
       "  font-size: smaller;\n",
       "  line-height: 1em;\n",
       "  font-family: monospace;\n",
       "  background-color: var(--sklearn-color-background);\n",
       "  border-radius: 1em;\n",
       "  height: 1em;\n",
       "  width: 1em;\n",
       "  text-decoration: none !important;\n",
       "  margin-left: 1ex;\n",
       "  /* unfitted */\n",
       "  border: var(--sklearn-color-unfitted-level-1) 1pt solid;\n",
       "  color: var(--sklearn-color-unfitted-level-1);\n",
       "}\n",
       "\n",
       ".sk-estimator-doc-link.fitted,\n",
       "a:link.sk-estimator-doc-link.fitted,\n",
       "a:visited.sk-estimator-doc-link.fitted {\n",
       "  /* fitted */\n",
       "  border: var(--sklearn-color-fitted-level-1) 1pt solid;\n",
       "  color: var(--sklearn-color-fitted-level-1);\n",
       "}\n",
       "\n",
       "/* On hover */\n",
       "div.sk-estimator:hover .sk-estimator-doc-link:hover,\n",
       ".sk-estimator-doc-link:hover,\n",
       "div.sk-label-container:hover .sk-estimator-doc-link:hover,\n",
       ".sk-estimator-doc-link:hover {\n",
       "  /* unfitted */\n",
       "  background-color: var(--sklearn-color-unfitted-level-3);\n",
       "  color: var(--sklearn-color-background);\n",
       "  text-decoration: none;\n",
       "}\n",
       "\n",
       "div.sk-estimator.fitted:hover .sk-estimator-doc-link.fitted:hover,\n",
       ".sk-estimator-doc-link.fitted:hover,\n",
       "div.sk-label-container:hover .sk-estimator-doc-link.fitted:hover,\n",
       ".sk-estimator-doc-link.fitted:hover {\n",
       "  /* fitted */\n",
       "  background-color: var(--sklearn-color-fitted-level-3);\n",
       "  color: var(--sklearn-color-background);\n",
       "  text-decoration: none;\n",
       "}\n",
       "\n",
       "/* Span, style for the box shown on hovering the info icon */\n",
       ".sk-estimator-doc-link span {\n",
       "  display: none;\n",
       "  z-index: 9999;\n",
       "  position: relative;\n",
       "  font-weight: normal;\n",
       "  right: .2ex;\n",
       "  padding: .5ex;\n",
       "  margin: .5ex;\n",
       "  width: min-content;\n",
       "  min-width: 20ex;\n",
       "  max-width: 50ex;\n",
       "  color: var(--sklearn-color-text);\n",
       "  box-shadow: 2pt 2pt 4pt #999;\n",
       "  /* unfitted */\n",
       "  background: var(--sklearn-color-unfitted-level-0);\n",
       "  border: .5pt solid var(--sklearn-color-unfitted-level-3);\n",
       "}\n",
       "\n",
       ".sk-estimator-doc-link.fitted span {\n",
       "  /* fitted */\n",
       "  background: var(--sklearn-color-fitted-level-0);\n",
       "  border: var(--sklearn-color-fitted-level-3);\n",
       "}\n",
       "\n",
       ".sk-estimator-doc-link:hover span {\n",
       "  display: block;\n",
       "}\n",
       "\n",
       "/* \"?\"-specific style due to the `<a>` HTML tag */\n",
       "\n",
       "#sk-container-id-1 a.estimator_doc_link {\n",
       "  float: right;\n",
       "  font-size: 1rem;\n",
       "  line-height: 1em;\n",
       "  font-family: monospace;\n",
       "  background-color: var(--sklearn-color-background);\n",
       "  border-radius: 1rem;\n",
       "  height: 1rem;\n",
       "  width: 1rem;\n",
       "  text-decoration: none;\n",
       "  /* unfitted */\n",
       "  color: var(--sklearn-color-unfitted-level-1);\n",
       "  border: var(--sklearn-color-unfitted-level-1) 1pt solid;\n",
       "}\n",
       "\n",
       "#sk-container-id-1 a.estimator_doc_link.fitted {\n",
       "  /* fitted */\n",
       "  border: var(--sklearn-color-fitted-level-1) 1pt solid;\n",
       "  color: var(--sklearn-color-fitted-level-1);\n",
       "}\n",
       "\n",
       "/* On hover */\n",
       "#sk-container-id-1 a.estimator_doc_link:hover {\n",
       "  /* unfitted */\n",
       "  background-color: var(--sklearn-color-unfitted-level-3);\n",
       "  color: var(--sklearn-color-background);\n",
       "  text-decoration: none;\n",
       "}\n",
       "\n",
       "#sk-container-id-1 a.estimator_doc_link.fitted:hover {\n",
       "  /* fitted */\n",
       "  background-color: var(--sklearn-color-fitted-level-3);\n",
       "}\n",
       "</style><div id=\"sk-container-id-1\" class=\"sk-top-container\"><div class=\"sk-text-repr-fallback\"><pre>ColumnTransformer(remainder=StandardScaler(),\n",
       "                  transformers=[(&#x27;onehotencoder&#x27;,\n",
       "                                 OneHotEncoder(drop=&#x27;if_binary&#x27;),\n",
       "                                 [&#x27;job&#x27;, &#x27;marital&#x27;, &#x27;education&#x27;, &#x27;default&#x27;,\n",
       "                                  &#x27;housing&#x27;, &#x27;loan&#x27;, &#x27;contact&#x27;])])</pre><b>In a Jupyter environment, please rerun this cell to show the HTML representation or trust the notebook. <br />On GitHub, the HTML representation is unable to render, please try loading this page with nbviewer.org.</b></div><div class=\"sk-container\" hidden><div class=\"sk-item sk-dashed-wrapped\"><div class=\"sk-label-container\"><div class=\"sk-label  sk-toggleable\"><input class=\"sk-toggleable__control sk-hidden--visually\" id=\"sk-estimator-id-1\" type=\"checkbox\" ><label for=\"sk-estimator-id-1\" class=\"sk-toggleable__label  sk-toggleable__label-arrow \">&nbsp;&nbsp;ColumnTransformer<a class=\"sk-estimator-doc-link \" rel=\"noreferrer\" target=\"_blank\" href=\"https://scikit-learn.org/1.5/modules/generated/sklearn.compose.ColumnTransformer.html\">?<span>Documentation for ColumnTransformer</span></a><span class=\"sk-estimator-doc-link \">i<span>Not fitted</span></span></label><div class=\"sk-toggleable__content \"><pre>ColumnTransformer(remainder=StandardScaler(),\n",
       "                  transformers=[(&#x27;onehotencoder&#x27;,\n",
       "                                 OneHotEncoder(drop=&#x27;if_binary&#x27;),\n",
       "                                 [&#x27;job&#x27;, &#x27;marital&#x27;, &#x27;education&#x27;, &#x27;default&#x27;,\n",
       "                                  &#x27;housing&#x27;, &#x27;loan&#x27;, &#x27;contact&#x27;])])</pre></div> </div></div><div class=\"sk-parallel\"><div class=\"sk-parallel-item\"><div class=\"sk-item\"><div class=\"sk-label-container\"><div class=\"sk-label  sk-toggleable\"><input class=\"sk-toggleable__control sk-hidden--visually\" id=\"sk-estimator-id-2\" type=\"checkbox\" ><label for=\"sk-estimator-id-2\" class=\"sk-toggleable__label  sk-toggleable__label-arrow \">onehotencoder</label><div class=\"sk-toggleable__content \"><pre>[&#x27;job&#x27;, &#x27;marital&#x27;, &#x27;education&#x27;, &#x27;default&#x27;, &#x27;housing&#x27;, &#x27;loan&#x27;, &#x27;contact&#x27;]</pre></div> </div></div><div class=\"sk-serial\"><div class=\"sk-item\"><div class=\"sk-estimator  sk-toggleable\"><input class=\"sk-toggleable__control sk-hidden--visually\" id=\"sk-estimator-id-3\" type=\"checkbox\" ><label for=\"sk-estimator-id-3\" class=\"sk-toggleable__label  sk-toggleable__label-arrow \">&nbsp;OneHotEncoder<a class=\"sk-estimator-doc-link \" rel=\"noreferrer\" target=\"_blank\" href=\"https://scikit-learn.org/1.5/modules/generated/sklearn.preprocessing.OneHotEncoder.html\">?<span>Documentation for OneHotEncoder</span></a></label><div class=\"sk-toggleable__content \"><pre>OneHotEncoder(drop=&#x27;if_binary&#x27;)</pre></div> </div></div></div></div></div><div class=\"sk-parallel-item\"><div class=\"sk-item\"><div class=\"sk-label-container\"><div class=\"sk-label  sk-toggleable\"><input class=\"sk-toggleable__control sk-hidden--visually\" id=\"sk-estimator-id-4\" type=\"checkbox\" ><label for=\"sk-estimator-id-4\" class=\"sk-toggleable__label  sk-toggleable__label-arrow \">remainder</label><div class=\"sk-toggleable__content \"><pre></pre></div> </div></div><div class=\"sk-serial\"><div class=\"sk-item\"><div class=\"sk-estimator  sk-toggleable\"><input class=\"sk-toggleable__control sk-hidden--visually\" id=\"sk-estimator-id-5\" type=\"checkbox\" ><label for=\"sk-estimator-id-5\" class=\"sk-toggleable__label  sk-toggleable__label-arrow \">&nbsp;StandardScaler<a class=\"sk-estimator-doc-link \" rel=\"noreferrer\" target=\"_blank\" href=\"https://scikit-learn.org/1.5/modules/generated/sklearn.preprocessing.StandardScaler.html\">?<span>Documentation for StandardScaler</span></a></label><div class=\"sk-toggleable__content \"><pre>StandardScaler()</pre></div> </div></div></div></div></div></div></div></div></div>"
      ],
      "text/plain": [
       "ColumnTransformer(remainder=StandardScaler(),\n",
       "                  transformers=[('onehotencoder',\n",
       "                                 OneHotEncoder(drop='if_binary'),\n",
       "                                 ['job', 'marital', 'education', 'default',\n",
       "                                  'housing', 'loan', 'contact'])])"
      ]
     },
     "execution_count": 11,
     "metadata": {},
     "output_type": "execute_result"
    }
   ],
   "source": [
    "#Using only the columns 1-7 for modeling\n",
    "transformer = make_column_transformer(\n",
    "    (\n",
    "        (OneHotEncoder(drop = 'if_binary'),['job', 'marital', 'education', 'default', 'housing', 'loan', 'contact'])\n",
    "    ), remainder=StandardScaler()\n",
    "    )\n",
    "transformer"
   ]
  },
  {
   "cell_type": "code",
   "execution_count": 12,
   "metadata": {
    "executionInfo": {
     "elapsed": 199,
     "status": "ok",
     "timestamp": 1706981014182,
     "user": {
      "displayName": "Girish Natarajan",
      "userId": "10926076535768638591"
     },
     "user_tz": 480
    },
    "id": "z9CAn8uaQEvd"
   },
   "outputs": [
    {
     "name": "stdout",
     "output_type": "stream",
     "text": [
      "X (41176, 35)\n",
      "y (41176,)\n"
     ]
    }
   ],
   "source": [
    "X = transformer.fit_transform(df[['age','job', 'marital', 'education', 'default', 'housing', 'loan', 'contact']])\n",
    "y = df['y']\n",
    "print(\"X\", X.shape)\n",
    "print(\"y\", y.shape)"
   ]
  },
  {
   "cell_type": "markdown",
   "metadata": {
    "id": "hl_k1tl2QEvd"
   },
   "source": [
    "### Problem 6: Train/Test Split\n",
    "\n",
    "With your data prepared, split it into a train and test set.\n",
    "Since the dataset is imbalanced, use stratify parameter to keep the proportion of two  classes in `y` in the test and train sets"
   ]
  },
  {
   "cell_type": "code",
   "execution_count": 13,
   "metadata": {
    "executionInfo": {
     "elapsed": 9,
     "status": "ok",
     "timestamp": 1706981014182,
     "user": {
      "displayName": "Girish Natarajan",
      "userId": "10926076535768638591"
     },
     "user_tz": 480
    },
    "id": "GdALqQH6QEvd"
   },
   "outputs": [
    {
     "name": "stdout",
     "output_type": "stream",
     "text": [
      "X_train shape:  (28823, 35)\n",
      "X_test shape:  (12353, 35)\n",
      "y_train shape:  (28823,)\n",
      "y_test shape:  (12353,)\n"
     ]
    }
   ],
   "source": [
    "X_train, X_test, y_train, y_test = train_test_split(X, y, test_size=.3, stratify=y, random_state=42)\n",
    "print(\"X_train shape: \", X_train.shape)\n",
    "print(\"X_test shape: \", X_test.shape)\n",
    "print(\"y_train shape: \", y_train.shape)\n",
    "print(\"y_test shape: \", y_test.shape)\n"
   ]
  },
  {
   "cell_type": "markdown",
   "metadata": {
    "id": "yU5_sw0iQEvd"
   },
   "source": [
    "### Problem 7: A Baseline Model\n",
    "\n",
    "Before we build our first model, we want to establish a baseline.  What is the baseline performance that our classifier should aim to beat?"
   ]
  },
  {
   "cell_type": "code",
   "execution_count": 14,
   "metadata": {
    "colab": {
     "base_uri": "https://localhost:8080/"
    },
    "executionInfo": {
     "elapsed": 215,
     "status": "ok",
     "timestamp": 1706981014389,
     "user": {
      "displayName": "Girish Natarajan",
      "userId": "10926076535768638591"
     },
     "user_tz": 480
    },
    "id": "lGTgABp-QEvd",
    "outputId": "8e119ed3-9c87-44cf-8b62-023c3fa7bdf8"
   },
   "outputs": [
    {
     "name": "stdout",
     "output_type": "stream",
     "text": [
      "Dummy Classifier Train Score 0.8873469104534573\n",
      "Dummy Classifier Test Score  0.88731482231037\n",
      "Dummy Classifier Performance:\n",
      "Accuracy: 0.88731482231037\n",
      "Confusion Matrix:\n",
      " [[10961     0]\n",
      " [ 1392     0]]\n",
      "Classification Report:\n",
      "               precision    recall  f1-score   support\n",
      "\n",
      "           0       0.89      1.00      0.94     10961\n",
      "           1       0.00      0.00      0.00      1392\n",
      "\n",
      "    accuracy                           0.89     12353\n",
      "   macro avg       0.44      0.50      0.47     12353\n",
      "weighted avg       0.79      0.89      0.83     12353\n",
      "\n"
     ]
    }
   ],
   "source": [
    "dummy_estimator = DummyClassifier().fit(X_train, y_train)\n",
    "dummy_train_score = dummy_estimator.score(X_train, y_train)\n",
    "dummy_test_score = dummy_estimator.score(X_test, y_test)\n",
    "print('Dummy Classifier Train Score {}'.format(dummy_train_score))\n",
    "print('Dummy Classifier Test Score  {}'.format(dummy_test_score))\n",
    "\n",
    "# Build confusion matrix, and also y predict\n",
    "y_pred_dummy = dummy_estimator.predict(X_test)\n",
    "accuracy_dummy = accuracy_score(y_test, y_pred_dummy)\n",
    "conf_matrix_dummy = confusion_matrix(y_test, y_pred_dummy)\n",
    "class_report_dummy = classification_report(y_test, y_pred_dummy)\n",
    "\n",
    "print(\"Dummy Classifier Performance:\")\n",
    "print(f\"Accuracy: {accuracy_dummy}\")\n",
    "print(\"Confusion Matrix:\\n\", conf_matrix_dummy)\n",
    "print(\"Classification Report:\\n\", class_report_dummy)"
   ]
  },
  {
   "cell_type": "markdown",
   "metadata": {
    "id": "FGwYuZBeeeMf"
   },
   "source": [
    "\n",
    "##### Note\n",
    "The baseline model's performance is 88.76%. The baseline model is a dummy classifier that makes the majority prediction (in this case a 0 or no) for all rows and calculates accuracy. This is plotted below in the confusion matrix."
   ]
  },
  {
   "cell_type": "code",
   "execution_count": 15,
   "metadata": {
    "colab": {
     "base_uri": "https://localhost:8080/",
     "height": 472
    },
    "executionInfo": {
     "elapsed": 244,
     "status": "ok",
     "timestamp": 1706981014629,
     "user": {
      "displayName": "Girish Natarajan",
      "userId": "10926076535768638591"
     },
     "user_tz": 480
    },
    "id": "asFfoDgDQEvd",
    "outputId": "00cd9121-d03c-485c-f779-28d58ca279a9"
   },
   "outputs": [
    {
     "data": {
      "image/png": "[encoded data removed]",
      "text/plain": [
       "<Figure size 640x480 with 2 Axes>"
      ]
     },
     "metadata": {},
     "output_type": "display_data"
    }
   ],
   "source": [
    "confusionmatrix_dummy = ConfusionMatrixDisplay.from_estimator(dummy_estimator, X_test, y_test)\n",
    "confusionmatrix_dummy.ax_.set_title('Confusion Matrix for Dummy Classifier Results')\n",
    "plt.show()"
   ]
  },
  {
   "cell_type": "markdown",
   "metadata": {
    "id": "NWpy5gMyQEvd"
   },
   "source": [
    "### Problem 8: A Simple Model\n",
    "\n",
    "Use Logistic Regression to build a basic model on your data.  "
   ]
  },
  {
   "cell_type": "code",
   "execution_count": 16,
   "metadata": {
    "executionInfo": {
     "elapsed": 375,
     "status": "ok",
     "timestamp": 1706981014997,
     "user": {
      "displayName": "Girish Natarajan",
      "userId": "10926076535768638591"
     },
     "user_tz": 480
    },
    "id": "9rxJ0WUMQEvd"
   },
   "outputs": [],
   "source": [
    "simple_lr_estimator = LogisticRegression(max_iter=1000).fit(X_train, y_train)"
   ]
  },
  {
   "cell_type": "markdown",
   "metadata": {
    "id": "eRkXR39KQEvd"
   },
   "source": [
    "### Problem 9: Score the Model\n",
    "\n",
    "What is the accuracy of your model?"
   ]
  },
  {
   "cell_type": "code",
   "execution_count": 17,
   "metadata": {
    "colab": {
     "base_uri": "https://localhost:8080/"
    },
    "executionInfo": {
     "elapsed": 8,
     "status": "ok",
     "timestamp": 1706981014997,
     "user": {
      "displayName": "Girish Natarajan",
      "userId": "10926076535768638591"
     },
     "user_tz": 480
    },
    "id": "-LAkkduUQEvd",
    "outputId": "54dc9bab-fc04-47d1-88d1-0c4232d0b986"
   },
   "outputs": [
    {
     "name": "stdout",
     "output_type": "stream",
     "text": [
      "Simple Logistic Regression Model Train Score = 0.8873469104534573\n",
      "Simple Logistic Regression Model Test Score  = 0.88731482231037\n",
      "Dummy Classifier Performance:\n",
      "Accuracy: 0.88731482231037\n",
      "Confusion Matrix:\n",
      " [[10961     0]\n",
      " [ 1392     0]]\n",
      "Classification Report:\n",
      "               precision    recall  f1-score   support\n",
      "\n",
      "           0       0.89      1.00      0.94     10961\n",
      "           1       0.00      0.00      0.00      1392\n",
      "\n",
      "    accuracy                           0.89     12353\n",
      "   macro avg       0.44      0.50      0.47     12353\n",
      "weighted avg       0.79      0.89      0.83     12353\n",
      "\n"
     ]
    }
   ],
   "source": [
    "lr_train_score = simple_lr_estimator.score(X_train, y_train)\n",
    "lr_test_score = simple_lr_estimator.score(X_test, y_test)\n",
    "print('Simple Logistic Regression Model Train Score = {}'.format(lr_train_score))\n",
    "print('Simple Logistic Regression Model Test Score  = {}'.format(lr_test_score))\n",
    "\n",
    "# Build confusion matrix, and also y predict\n",
    "y_pred_simple_lr = simple_lr_estimator.predict(X_test)\n",
    "accuracy_simple_lr = accuracy_score(y_test, y_pred_simple_lr)\n",
    "conf_matrix_simple_lr = confusion_matrix(y_test, y_pred_simple_lr)\n",
    "class_report_simple_lr = classification_report(y_test, y_pred_simple_lr)\n",
    "\n",
    "print(\"Dummy Classifier Performance:\")\n",
    "print(f\"Accuracy: {accuracy_simple_lr}\")\n",
    "print(\"Confusion Matrix:\\n\", conf_matrix_simple_lr)\n",
    "print(\"Classification Report:\\n\", class_report_simple_lr)"
   ]
  },
  {
   "cell_type": "code",
   "execution_count": 18,
   "metadata": {
    "colab": {
     "base_uri": "https://localhost:8080/",
     "height": 472
    },
    "executionInfo": {
     "elapsed": 287,
     "status": "ok",
     "timestamp": 1706981015280,
     "user": {
      "displayName": "Girish Natarajan",
      "userId": "10926076535768638591"
     },
     "user_tz": 480
    },
    "id": "zEY1riFlhRT7",
    "outputId": "dbbc64a3-ce09-4330-b9cf-5c09a5903401"
   },
   "outputs": [
    {
     "data": {
      "image/png": "[encoded data removed]",
      "text/plain": [
       "<Figure size 640x480 with 2 Axes>"
      ]
     },
     "metadata": {},
     "output_type": "display_data"
    }
   ],
   "source": [
    "confusionmatrix_simple_lr = ConfusionMatrixDisplay.from_estimator(simple_lr_estimator, X_test, y_test)\n",
    "confusionmatrix_simple_lr.ax_.set_title('Confusion Matrix for Basic Logistic Regression Results')\n",
    "plt.show()"
   ]
  },
  {
   "cell_type": "markdown",
   "metadata": {
    "id": "gjBee7oOhiyB"
   },
   "source": [
    "Curiously, `LogisticRegression` predicted exactly the same values as the `DummyClassifier`, resulting in the exact same scores."
   ]
  },
  {
   "cell_type": "markdown",
   "metadata": {},
   "source": [
    "#### Build a basic Decision Tree Classifier Model and Score it"
   ]
  },
  {
   "cell_type": "code",
   "execution_count": 19,
   "metadata": {
    "colab": {
     "base_uri": "https://localhost:8080/",
     "height": 472
    },
    "executionInfo": {
     "elapsed": 784,
     "status": "ok",
     "timestamp": 1706981016339,
     "user": {
      "displayName": "Girish Natarajan",
      "userId": "10926076535768638591"
     },
     "user_tz": 480
    },
    "id": "Wgmb0cUXQEvd",
    "outputId": "66e5226c-3aa2-4f1c-dced-0bc5990b0d87"
   },
   "outputs": [],
   "source": [
    "simple_dtree = DecisionTreeClassifier().fit(X_train, y_train)"
   ]
  },
  {
   "cell_type": "code",
   "execution_count": 20,
   "metadata": {},
   "outputs": [
    {
     "name": "stdout",
     "output_type": "stream",
     "text": [
      "Simple Decision Tree Train Score = 0.9263782396003192\n",
      "Simple Decision Tree Model Test Score  = 0.8590625758924958\n",
      "Dummy Classifier Performance:\n",
      "Accuracy: 0.8590625758924958\n",
      "Confusion Matrix:\n",
      " [[10470   491]\n",
      " [ 1250   142]]\n",
      "Classification Report:\n",
      "               precision    recall  f1-score   support\n",
      "\n",
      "           0       0.89      0.96      0.92     10961\n",
      "           1       0.22      0.10      0.14      1392\n",
      "\n",
      "    accuracy                           0.86     12353\n",
      "   macro avg       0.56      0.53      0.53     12353\n",
      "weighted avg       0.82      0.86      0.84     12353\n",
      "\n"
     ]
    }
   ],
   "source": [
    "simple_dtree_train_score = simple_dtree.score(X_train, y_train)\n",
    "simple_dtree_test_score = simple_dtree.score(X_test, y_test)\n",
    "print('Simple Decision Tree Train Score = {}'.format(simple_dtree_train_score))\n",
    "print('Simple Decision Tree Model Test Score  = {}'.format(simple_dtree_test_score))\n",
    "\n",
    "# Build confusion matrix, and also y predict\n",
    "y_pred_simple_dtree = simple_dtree.predict(X_test)\n",
    "accuracy_simple_dtree = accuracy_score(y_test, y_pred_simple_dtree)\n",
    "conf_matrix_simple_dtree = confusion_matrix(y_test, y_pred_simple_dtree)\n",
    "class_report_simple_dtree = classification_report(y_test, y_pred_simple_dtree)\n",
    "\n",
    "print(\"Dummy Classifier Performance:\")\n",
    "print(f\"Accuracy: {accuracy_simple_dtree}\")\n",
    "print(\"Confusion Matrix:\\n\", conf_matrix_simple_dtree)\n",
    "print(\"Classification Report:\\n\", class_report_simple_dtree)"
   ]
  },
  {
   "cell_type": "code",
   "execution_count": null,
   "metadata": {},
   "outputs": [],
   "source": []
  },
  {
   "cell_type": "code",
   "execution_count": 21,
   "metadata": {},
   "outputs": [
    {
     "data": {
      "image/png": "[encoded data removed]",
      "text/plain": [
       "<Figure size 640x480 with 2 Axes>"
      ]
     },
     "metadata": {},
     "output_type": "display_data"
    }
   ],
   "source": [
    "confusionmatrix_simple_dtree = ConfusionMatrixDisplay.from_estimator(simple_dtree, X_test, y_test)\n",
    "confusionmatrix_simple_dtree.ax_.set_title('Confusion Matrix for Basic Decision Tree Results')\n",
    "plt.show()"
   ]
  },
  {
   "cell_type": "markdown",
   "metadata": {
    "id": "wzJJwV6hQEvd"
   },
   "source": [
    "### Problem 10: Model Comparisons\n",
    "\n",
    "Now, we aim to compare the performance of the Logistic Regression model to our KNN algorithm, Decision Tree, and SVM models.  Using the default settings for each of the models, fit and score each.  Also, be sure to compare the fit time of each of the models.  Present your findings in a `DataFrame` similar to that below:\n",
    "\n",
    "| Model | Train Time | Train Accuracy | Test Accuracy |\n",
    "| ----- | ---------- | -------------  | -----------   |\n",
    "|     |    |.     |.     |"
   ]
  },
  {
   "cell_type": "code",
   "execution_count": 22,
   "metadata": {
    "colab": {
     "base_uri": "https://localhost:8080/"
    },
    "executionInfo": {
     "elapsed": 214141,
     "status": "ok",
     "timestamp": 1706981230475,
     "user": {
      "displayName": "Girish Natarajan",
      "userId": "10926076535768638591"
     },
     "user_tz": 480
    },
    "id": "lLz2eiwkQEvd",
    "outputId": "a5def8ce-45f1-4a8c-8519-8c75ede891d4"
   },
   "outputs": [
    {
     "data": {
      "text/html": [
       "<div>\n",
       "<style scoped>\n",
       "    .dataframe tbody tr th:only-of-type {\n",
       "        vertical-align: middle;\n",
       "    }\n",
       "\n",
       "    .dataframe tbody tr th {\n",
       "        vertical-align: top;\n",
       "    }\n",
       "\n",
       "    .dataframe thead th {\n",
       "        text-align: right;\n",
       "    }\n",
       "</style>\n",
       "<table border=\"1\" class=\"dataframe\">\n",
       "  <thead>\n",
       "    <tr style=\"text-align: right;\">\n",
       "      <th></th>\n",
       "      <th>Model</th>\n",
       "      <th>Train Time</th>\n",
       "      <th>Train Accuracy</th>\n",
       "      <th>Test Accuracy</th>\n",
       "    </tr>\n",
       "  </thead>\n",
       "  <tbody>\n",
       "    <tr>\n",
       "      <th>0</th>\n",
       "      <td>Logistic Regression</td>\n",
       "      <td>0.077768</td>\n",
       "      <td>0.887347</td>\n",
       "      <td>0.887315</td>\n",
       "    </tr>\n",
       "    <tr>\n",
       "      <th>1</th>\n",
       "      <td>Decision Tree</td>\n",
       "      <td>1.080166</td>\n",
       "      <td>0.926378</td>\n",
       "      <td>0.859144</td>\n",
       "    </tr>\n",
       "    <tr>\n",
       "      <th>2</th>\n",
       "      <td>Support Vector Machine</td>\n",
       "      <td>95.564823</td>\n",
       "      <td>0.888214</td>\n",
       "      <td>0.887234</td>\n",
       "    </tr>\n",
       "    <tr>\n",
       "      <th>3</th>\n",
       "      <td>K Nearest Neighbors</td>\n",
       "      <td>0.020246</td>\n",
       "      <td>0.892794</td>\n",
       "      <td>0.879786</td>\n",
       "    </tr>\n",
       "  </tbody>\n",
       "</table>\n",
       "</div>"
      ],
      "text/plain": [
       "                    Model  Train Time  Train Accuracy  Test Accuracy\n",
       "0     Logistic Regression    0.077768        0.887347       0.887315\n",
       "1           Decision Tree    1.080166        0.926378       0.859144\n",
       "2  Support Vector Machine   95.564823        0.888214       0.887234\n",
       "3     K Nearest Neighbors    0.020246        0.892794       0.879786"
      ]
     },
     "execution_count": 22,
     "metadata": {},
     "output_type": "execute_result"
    }
   ],
   "source": [
    "estimators = {'Logistic Regression':LogisticRegression(max_iter = 1000),\n",
    "              'Decision Tree':DecisionTreeClassifier(),\n",
    "              'Support Vector Machine':SVC(),\n",
    "              'K Nearest Neighbors':KNeighborsClassifier()}\n",
    "scores_dict = {'Model':[], 'Train Time':[], 'Train Accuracy':[], 'Test Accuracy':[]}\n",
    "\n",
    "for estimator in estimators:\n",
    "  start = time.time()\n",
    "  fit_estimator = estimators[estimator].fit(X_train, y_train)\n",
    "  stop = time.time()\n",
    "  scores_dict['Model'].append(estimator)\n",
    "  scores_dict['Train Accuracy'].append(fit_estimator.score(X_train, y_train))\n",
    "  scores_dict['Test Accuracy'].append(fit_estimator.score(X_test, y_test))\n",
    "  scores_dict['Train Time'].append(stop - start)\n",
    "\n",
    "scores_dict_df = pd.DataFrame(scores_dict)\n",
    "scores_dict_df"
   ]
  },
  {
   "cell_type": "markdown",
   "metadata": {
    "id": "nrliadzTl6tA"
   },
   "source": [
    "The results indicate that with the first seven features and default parameters the four classifier methods do not improve much over the baseline. The does not meet the objectives of this project. The models have to be improved. "
   ]
  },
  {
   "cell_type": "markdown",
   "metadata": {
    "id": "MddV7MADQEvd"
   },
   "source": [
    "### Problem 11: Improving the Model\n",
    "\n",
    "Now that we have some basic models on the board, we want to try to improve these.  Below, we list a few things to explore in this pursuit.\n",
    "\n",
    "- More feature engineering and exploration.  For example, should we keep the gender feature?  Why or why not?\n",
    "- Hyperparameter tuning and grid search.  All of our models have additional hyperparameters to tune and explore.  For example the number of neighbors in KNN or the maximum depth of a Decision Tree.  \n",
    "- Adjust your performance metric"
   ]
  },
  {
   "cell_type": "markdown",
   "metadata": {
    "id": "1LVR5ZMtSNrG"
   },
   "source": [
    "#### Feature Engineering & Exploration"
   ]
  },
  {
   "cell_type": "markdown",
   "metadata": {
    "id": "CQ-FicOESbbo"
   },
   "source": [
    "The models with the bank information have not yielded results better than the baseline model. \n",
    "Hence, we have to do some exploratory data analysis (EDA). \n",
    "The data columns were plotted and from this and with a few trials I found the following to yield better results than others. "
   ]
  },
  {
   "cell_type": "code",
   "execution_count": 23,
   "metadata": {},
   "outputs": [
    {
     "data": {
      "image/png": "[encoded data removed]",
      "text/plain": [
       "<Figure size 640x480 with 1 Axes>"
      ]
     },
     "metadata": {},
     "output_type": "display_data"
    },
    {
     "data": {
      "image/png": "[encoded data removed]",
      "text/plain": [
       "<Figure size 1200x1000 with 6 Axes>"
      ]
     },
     "metadata": {},
     "output_type": "display_data"
    }
   ],
   "source": [
    "explore_df = df\n",
    "\n",
    "# Plot age job marital education default housing loan\n",
    "sns.histplot(data=explore_df, x='age')\n",
    "plt.title('Value counts of Age', fontsize=8)\n",
    "plt.tick_params(axis='x', rotation=45, labelsize=6)\n",
    "plt.show()\n",
    "\n",
    "fig, axes = plt.subplots(3, 2, figsize=(12, 10))\n",
    "sns.countplot(data=explore_df, x='job', ax=axes[0, 0])\n",
    "axes[0,0].set_title('Value counts of Jobs', fontsize=8)\n",
    "axes[0,0].tick_params(axis='x', rotation=45, labelsize=6)\n",
    "\n",
    "sns.countplot(data=explore_df, x='marital', ax=axes[0, 1])\n",
    "axes[0,1].set_title('Value counts of Marital Status', fontsize=8)\n",
    "axes[0,1].tick_params(axis='x', rotation=45, labelsize=6)\n",
    "\n",
    "sns.countplot(data=explore_df, x='education', ax=axes[1, 0])\n",
    "axes[1,0].set_title('Value counts of Education Status', fontsize=8)\n",
    "axes[1,0].tick_params(axis='x', rotation=45, labelsize=6)\n",
    "\n",
    "sns.countplot(data=explore_df, x='default', ax=axes[1, 1])\n",
    "axes[1,1].set_title('Value counts of Default', fontsize=8)\n",
    "axes[1,1].tick_params(axis='x', labelsize=6)\n",
    "\n",
    "sns.countplot(data=explore_df, x='housing', ax=axes[2, 0])\n",
    "axes[2,0].set_title('Value counts of Housing Status', fontsize=8)\n",
    "axes[2,0].tick_params(axis='x', labelsize=6)\n",
    "\n",
    "sns.countplot(data=explore_df, x='loan', ax=axes[2, 1])\n",
    "axes[2,1].set_title('Value counts of Loan Status', fontsize=8)\n",
    "axes[2,1].tick_params(axis='x', labelsize=6)\n",
    "plt.tight_layout()\n",
    "plt.show()\n"
   ]
  },
  {
   "cell_type": "markdown",
   "metadata": {},
   "source": [
    "##### Exploratory data analysis in the features\n",
    "\n",
    "Simplifying some features by making them binary\n",
    "1. `is_employed`: map all employed types to 1. all others mapped to 0\n",
    "2. `is_married`: map married to 1. divorced, single and unknown  to 0\n",
    "3. `housing`: map yes to 1. no and unknown to 0\n",
    "4. `loan`: map yes to 1. no and unknown to 0\n",
    "\n",
    "One feature `age` is better if map it to buckets of 10 years"
   ]
  },
  {
   "cell_type": "code",
   "execution_count": 24,
   "metadata": {
    "colab": {
     "base_uri": "https://localhost:8080/",
     "height": 882
    },
    "executionInfo": {
     "elapsed": 1970,
     "status": "ok",
     "timestamp": 1706981232437,
     "user": {
      "displayName": "Girish Natarajan",
      "userId": "10926076535768638591"
     },
     "user_tz": 480
    },
    "id": "upCon3ijQEvd",
    "outputId": "ccd459dc-7820-48bb-e2aa-310ecdfc2b2d"
   },
   "outputs": [],
   "source": [
    "explore_df['is_employed'] = explore_df['job'].map({'admin.':1,\n",
    "                                'blue-collar': 1,\n",
    "                                'technician': 1,\n",
    "                                'services': 1,\n",
    "                                'management': 1,\n",
    "                                'retired': 0,\n",
    "                                'entrepreneur': 1,\n",
    "                                'self-employed': 1,\n",
    "                                'housemaid': 1,\n",
    "                                'unemployed': 0,\n",
    "                                'student': 0,\n",
    "                                'unknown': 0})\n",
    "\n",
    "# print(explore_df['is_employed'].unique())\n",
    "# print(explore_df['is_employed'].dtype)\n",
    "# print(explore_df['is_employed'].isna().sum())\n",
    "# print(explore_df['is_employed'].value_counts())"
   ]
  },
  {
   "cell_type": "code",
   "execution_count": 25,
   "metadata": {},
   "outputs": [],
   "source": [
    "explore_df['is_married'] = explore_df['marital'].map({'divorced': 0,\n",
    "                                      'married': 1,\n",
    "                                      'single': 0,\n",
    "                                      'unknown': 0})\n",
    "\n",
    "# print(explore_df['is_married'].unique())\n",
    "# print(explore_df['is_married'].dtype)\n",
    "# print(explore_df['is_married'].isna().sum())\n",
    "# print(explore_df['is_married'].value_counts())"
   ]
  },
  {
   "cell_type": "code",
   "execution_count": 26,
   "metadata": {},
   "outputs": [],
   "source": [
    "explore_df['housing'] = explore_df['housing'].map({'no': 0,\n",
    "                                                   'yes': 1,\n",
    "                                                   'unknown': 0})\n",
    "# print(explore_df['housing'].unique())\n",
    "# print(explore_df['housing'].dtype)\n",
    "# print(explore_df['housing'].isna().sum())\n",
    "# print(explore_df['housing'].value_counts())"
   ]
  },
  {
   "cell_type": "code",
   "execution_count": 27,
   "metadata": {},
   "outputs": [],
   "source": [
    "explore_df['loan'] = explore_df['loan'].map({'no': 0,\n",
    "                                             'yes': 1,\n",
    "                                             'unknown': 0})\n",
    "# print(explore_df['loan'].unique())\n",
    "# print(explore_df['loan'].dtype)\n",
    "# print(explore_df['loan'].isna().sum())\n",
    "# print(explore_df['loan'].value_counts())"
   ]
  },
  {
   "cell_type": "code",
   "execution_count": 28,
   "metadata": {},
   "outputs": [],
   "source": [
    "explore_df['age_cat'] = pd.cut(df['age'], bins=[0, 10, 20, 30, 40, 50, 60, 70, np.inf])\n",
    "# print(explore_df['age_cat'].unique())\n",
    "# print(explore_df['age_cat'].dtype)\n",
    "# print(explore_df['age_cat'].isna().sum())\n",
    "# print(explore_df['age_cat'].value_counts())"
   ]
  },
  {
   "cell_type": "markdown",
   "metadata": {
    "id": "H9EPc1VAfita"
   },
   "source": [
    "Draw all the plots once more"
   ]
  },
  {
   "cell_type": "code",
   "execution_count": 29,
   "metadata": {},
   "outputs": [
    {
     "data": {
      "image/png": "[encoded data removed]",
      "text/plain": [
       "<Figure size 640x480 with 1 Axes>"
      ]
     },
     "metadata": {},
     "output_type": "display_data"
    },
    {
     "data": {
      "image/png": "[encoded data removed]",
      "text/plain": [
       "<Figure size 1200x1000 with 6 Axes>"
      ]
     },
     "metadata": {},
     "output_type": "display_data"
    }
   ],
   "source": [
    "sns.countplot(data=explore_df, x='age_cat')\n",
    "plt.title('Value counts of age categories', fontsize=8)\n",
    "plt.tick_params(axis='x', rotation=45, labelsize=6)\n",
    "\n",
    "plt.show()\n",
    "\n",
    "fig, axes = plt.subplots(3, 2, figsize=(12, 10))\n",
    "# fig, axes = plt.subplots(3, 2)\n",
    "\n",
    "sns.countplot(data=explore_df, x='is_employed', ax=axes[0, 0])\n",
    "axes[0,0].set_title('Value counts of Employment Status', fontsize=8)\n",
    "axes[0,0].tick_params(axis='x', labelsize=8)\n",
    "\n",
    "sns.countplot(data=explore_df, x='is_married', ax=axes[0, 1])\n",
    "axes[0,1].set_title('Value counts of Marital Status', fontsize=8)\n",
    "axes[0,1].tick_params(axis='x', labelsize=8)\n",
    "\n",
    "sns.countplot(data=explore_df, x='education', ax=axes[1, 0])\n",
    "axes[1,0].set_title('Value counts of Education Status', fontsize=8)\n",
    "axes[1,0].tick_params(axis='x', rotation=45, labelsize=8)\n",
    "\n",
    "sns.countplot(data=explore_df, x='default', ax=axes[1, 1])\n",
    "axes[1,1].set_title('Value counts of Default', fontsize=8)\n",
    "axes[1,1].tick_params(axis='x', labelsize=8)\n",
    "\n",
    "sns.countplot(data=explore_df, x='housing', ax=axes[2, 0])\n",
    "axes[2,0].set_title('Value counts of Housing Status', fontsize=8)\n",
    "axes[2,0].tick_params(axis='x', labelsize=8)\n",
    "\n",
    "sns.countplot(data=explore_df, x='loan', ax=axes[2, 1])\n",
    "axes[2,1].set_title('Value counts of Loan Status', fontsize=8)\n",
    "axes[2,1].tick_params(axis='x', labelsize=8)\n",
    "\n",
    "plt.tight_layout()\n",
    "plt.show()"
   ]
  },
  {
   "cell_type": "markdown",
   "metadata": {},
   "source": [
    "##### Dropping columns that don't have useful data\n",
    "1.  `default`: There are only a large number of unknowns and only 3 yes's. Let's drop this column\n",
    "2.  `education`: The results improved without `education`. So, dropping that column. Look at this for future work\n",
    "\n",
    "After this, split the data set into train and test"
   ]
  },
  {
   "cell_type": "code",
   "execution_count": 30,
   "metadata": {
    "executionInfo": {
     "elapsed": 362,
     "status": "ok",
     "timestamp": 1706981233294,
     "user": {
      "displayName": "Girish Natarajan",
      "userId": "10926076535768638591"
     },
     "user_tz": 480
    },
    "id": "BUIFC-t4QEvd"
   },
   "outputs": [],
   "source": [
    "transformer = make_column_transformer(\n",
    "    (\n",
    "        (OneHotEncoder(),['age_cat'])\n",
    "    ), remainder='passthrough'\n",
    "    )\n",
    "\n",
    "X = transformer.fit_transform(df[['age_cat', 'is_employed', 'is_married', 'housing', 'loan']])\n",
    "y = df['y']"
   ]
  },
  {
   "cell_type": "code",
   "execution_count": 31,
   "metadata": {
    "executionInfo": {
     "elapsed": 6,
     "status": "ok",
     "timestamp": 1706981233296,
     "user": {
      "displayName": "Girish Natarajan",
      "userId": "10926076535768638591"
     },
     "user_tz": 480
    },
    "id": "0BimwKI1QEvd"
   },
   "outputs": [],
   "source": [
    "X_train, X_test, y_train, y_test = train_test_split(X, y, test_size=0.3, stratify=y, random_state=42)"
   ]
  },
  {
   "cell_type": "markdown",
   "metadata": {},
   "source": [
    "##### Build the 4 estimators LR, DT, SVN and KNN and score their run time and accuracy"
   ]
  },
  {
   "cell_type": "code",
   "execution_count": 32,
   "metadata": {
    "colab": {
     "base_uri": "https://localhost:8080/"
    },
    "executionInfo": {
     "elapsed": 40197,
     "status": "ok",
     "timestamp": 1706981273489,
     "user": {
      "displayName": "Girish Natarajan",
      "userId": "10926076535768638591"
     },
     "user_tz": 480
    },
    "id": "q1hpe_NhQEvd",
    "outputId": "1d901360-bee9-46a2-dabb-9104dd30e49b"
   },
   "outputs": [
    {
     "data": {
      "text/html": [
       "<div>\n",
       "<style scoped>\n",
       "    .dataframe tbody tr th:only-of-type {\n",
       "        vertical-align: middle;\n",
       "    }\n",
       "\n",
       "    .dataframe tbody tr th {\n",
       "        vertical-align: top;\n",
       "    }\n",
       "\n",
       "    .dataframe thead th {\n",
       "        text-align: right;\n",
       "    }\n",
       "</style>\n",
       "<table border=\"1\" class=\"dataframe\">\n",
       "  <thead>\n",
       "    <tr style=\"text-align: right;\">\n",
       "      <th></th>\n",
       "      <th>Model</th>\n",
       "      <th>Train Time</th>\n",
       "      <th>Train Accuracy</th>\n",
       "      <th>Test Accuracy</th>\n",
       "    </tr>\n",
       "  </thead>\n",
       "  <tbody>\n",
       "    <tr>\n",
       "      <th>0</th>\n",
       "      <td>Logistic Regression</td>\n",
       "      <td>0.098095</td>\n",
       "      <td>0.886722</td>\n",
       "      <td>0.887881</td>\n",
       "    </tr>\n",
       "    <tr>\n",
       "      <th>1</th>\n",
       "      <td>Decision Tree</td>\n",
       "      <td>0.040959</td>\n",
       "      <td>0.888041</td>\n",
       "      <td>0.886505</td>\n",
       "    </tr>\n",
       "    <tr>\n",
       "      <th>2</th>\n",
       "      <td>Support Vector Machine</td>\n",
       "      <td>11.722549</td>\n",
       "      <td>0.887382</td>\n",
       "      <td>0.887396</td>\n",
       "    </tr>\n",
       "    <tr>\n",
       "      <th>3</th>\n",
       "      <td>K Nearest Neighbors</td>\n",
       "      <td>0.103445</td>\n",
       "      <td>0.886133</td>\n",
       "      <td>0.886505</td>\n",
       "    </tr>\n",
       "  </tbody>\n",
       "</table>\n",
       "</div>"
      ],
      "text/plain": [
       "                    Model  Train Time  Train Accuracy  Test Accuracy\n",
       "0     Logistic Regression    0.098095        0.886722       0.887881\n",
       "1           Decision Tree    0.040959        0.888041       0.886505\n",
       "2  Support Vector Machine   11.722549        0.887382       0.887396\n",
       "3     K Nearest Neighbors    0.103445        0.886133       0.886505"
      ]
     },
     "execution_count": 32,
     "metadata": {},
     "output_type": "execute_result"
    }
   ],
   "source": [
    "estimators = {'Logistic Regression': LogisticRegression(max_iter = 1000),\n",
    "              'Decision Tree': DecisionTreeClassifier(),\n",
    "              'Support Vector Machine': SVC(),\n",
    "              'K Nearest Neighbors': KNeighborsClassifier()}\n",
    "scores_dict = {'Model':[], 'Train Time':[], 'Train Accuracy':[], 'Test Accuracy':[]}\n",
    "import time\n",
    "\n",
    "for estimator in estimators:\n",
    "  start = time.time()\n",
    "  fit_estimator = estimators[estimator].fit(X_train, y_train)\n",
    "  stop = time.time()\n",
    "  scores_dict['Model'].append(estimator)\n",
    "  scores_dict['Train Accuracy'].append(fit_estimator.score(X_train, y_train))\n",
    "  scores_dict['Test Accuracy'].append(fit_estimator.score(X_test, y_test))\n",
    "  scores_dict['Train Time'].append(stop - start)\n",
    "results = pd.DataFrame(scores_dict)\n",
    "results"
   ]
  },
  {
   "cell_type": "markdown",
   "metadata": {
    "id": "PylvHjsqsjlK"
   },
   "source": [
    "##### Adding more features from the dataset\n",
    "The results have not budged much with the above trials.\n",
    "Let us try adding more features to the dataset."
   ]
  },
  {
   "cell_type": "code",
   "execution_count": 33,
   "metadata": {
    "executionInfo": {
     "elapsed": 457,
     "status": "ok",
     "timestamp": 1706981273940,
     "user": {
      "displayName": "Girish Natarajan",
      "userId": "10926076535768638591"
     },
     "user_tz": 480
    },
    "id": "WzUIs8P7QEvm"
   },
   "outputs": [],
   "source": [
    "# Start from explore_df\n",
    "df_all = explore_df\n",
    "\n",
    "transformer = make_column_transformer(\n",
    "    (OneHotEncoder(drop = 'if_binary'),['age_cat', 'contact', 'month', 'day_of_week', 'poutcome']),\n",
    "    (StandardScaler(), ['duration', 'campaign', 'pdays', 'previous', 'emp.var.rate',\n",
    "                        'cons.price.idx', 'cons.price.idx', 'cons.conf.idx', 'euribor3m',\n",
    "                        'nr.employed']),\n",
    "    remainder='passthrough')\n",
    "\n",
    "X = transformer.fit_transform(df_all[['age_cat', 'is_employed', 'is_married', 'housing', 'loan',\n",
    "                                     'contact', 'month', 'day_of_week', 'poutcome',\n",
    "                                     'duration', 'campaign', 'pdays', 'previous', 'emp.var.rate',\n",
    "                                     'cons.price.idx', 'cons.conf.idx', 'euribor3m',\n",
    "                                     'nr.employed']])\n",
    "y = df['y']\n",
    "\n",
    "X_train, X_test, y_train, y_test = train_test_split(X, y, test_size=.3, stratify=y, random_state=42)"
   ]
  },
  {
   "cell_type": "code",
   "execution_count": 34,
   "metadata": {
    "colab": {
     "base_uri": "https://localhost:8080/"
    },
    "executionInfo": {
     "elapsed": 51193,
     "status": "ok",
     "timestamp": 1706981325129,
     "user": {
      "displayName": "Girish Natarajan",
      "userId": "10926076535768638591"
     },
     "user_tz": 480
    },
    "id": "MaX6S7QcQEvm",
    "outputId": "b5ecddba-eec0-49c4-beca-8f2418976f66"
   },
   "outputs": [
    {
     "data": {
      "text/html": [
       "<div>\n",
       "<style scoped>\n",
       "    .dataframe tbody tr th:only-of-type {\n",
       "        vertical-align: middle;\n",
       "    }\n",
       "\n",
       "    .dataframe tbody tr th {\n",
       "        vertical-align: top;\n",
       "    }\n",
       "\n",
       "    .dataframe thead th {\n",
       "        text-align: right;\n",
       "    }\n",
       "</style>\n",
       "<table border=\"1\" class=\"dataframe\">\n",
       "  <thead>\n",
       "    <tr style=\"text-align: right;\">\n",
       "      <th></th>\n",
       "      <th>Model</th>\n",
       "      <th>Train Time</th>\n",
       "      <th>Train Accuracy</th>\n",
       "      <th>Test Accuracy</th>\n",
       "    </tr>\n",
       "  </thead>\n",
       "  <tbody>\n",
       "    <tr>\n",
       "      <th>0</th>\n",
       "      <td>Logistic Regression</td>\n",
       "      <td>0.612350</td>\n",
       "      <td>0.911529</td>\n",
       "      <td>0.908524</td>\n",
       "    </tr>\n",
       "    <tr>\n",
       "      <th>1</th>\n",
       "      <td>Decision Tree</td>\n",
       "      <td>0.282974</td>\n",
       "      <td>0.999965</td>\n",
       "      <td>0.883915</td>\n",
       "    </tr>\n",
       "    <tr>\n",
       "      <th>2</th>\n",
       "      <td>Support Vector Machine</td>\n",
       "      <td>21.961259</td>\n",
       "      <td>0.919127</td>\n",
       "      <td>0.911358</td>\n",
       "    </tr>\n",
       "    <tr>\n",
       "      <th>3</th>\n",
       "      <td>K Nearest Neighbors</td>\n",
       "      <td>0.001256</td>\n",
       "      <td>0.930576</td>\n",
       "      <td>0.902777</td>\n",
       "    </tr>\n",
       "  </tbody>\n",
       "</table>\n",
       "</div>"
      ],
      "text/plain": [
       "                    Model  Train Time  Train Accuracy  Test Accuracy\n",
       "0     Logistic Regression    0.612350        0.911529       0.908524\n",
       "1           Decision Tree    0.282974        0.999965       0.883915\n",
       "2  Support Vector Machine   21.961259        0.919127       0.911358\n",
       "3     K Nearest Neighbors    0.001256        0.930576       0.902777"
      ]
     },
     "execution_count": 34,
     "metadata": {},
     "output_type": "execute_result"
    }
   ],
   "source": [
    "estimators = {'Logistic Regression':LogisticRegression(max_iter = 1000),\n",
    "              'Decision Tree':DecisionTreeClassifier(),\n",
    "              'Support Vector Machine':SVC(),\n",
    "              'K Nearest Neighbors':KNeighborsClassifier()}\n",
    "scores_dict = {'Model':[], 'Train Time':[], 'Train Accuracy':[], 'Test Accuracy':[]}\n",
    "import time\n",
    "\n",
    "for estimator in estimators:\n",
    "  start = time.time()\n",
    "  fit_estimator = estimators[estimator].fit(X_train, y_train)\n",
    "  stop = time.time()\n",
    "  scores_dict['Model'].append(estimator)\n",
    "  scores_dict['Train Accuracy'].append(fit_estimator.score(X_train, y_train))\n",
    "  scores_dict['Test Accuracy'].append(fit_estimator.score(X_test, y_test))\n",
    "  scores_dict['Train Time'].append(stop - start)\n",
    "\n",
    "results = pd.DataFrame(scores_dict)\n",
    "results"
   ]
  },
  {
   "cell_type": "code",
   "execution_count": 35,
   "metadata": {
    "colab": {
     "base_uri": "https://localhost:8080/",
     "height": 174
    },
    "executionInfo": {
     "elapsed": 29,
     "status": "ok",
     "timestamp": 1706981325129,
     "user": {
      "displayName": "Girish Natarajan",
      "userId": "10926076535768638591"
     },
     "user_tz": 480
    },
    "id": "cznV9k9-QEvm",
    "outputId": "f054ad8a-4953-4812-d864-5e055710be05"
   },
   "outputs": [
    {
     "data": {
      "text/html": [
       "<div>\n",
       "<style scoped>\n",
       "    .dataframe tbody tr th:only-of-type {\n",
       "        vertical-align: middle;\n",
       "    }\n",
       "\n",
       "    .dataframe tbody tr th {\n",
       "        vertical-align: top;\n",
       "    }\n",
       "\n",
       "    .dataframe thead th {\n",
       "        text-align: right;\n",
       "    }\n",
       "</style>\n",
       "<table border=\"1\" class=\"dataframe\">\n",
       "  <thead>\n",
       "    <tr style=\"text-align: right;\">\n",
       "      <th></th>\n",
       "      <th>Model</th>\n",
       "      <th>Train Time</th>\n",
       "      <th>Train Accuracy</th>\n",
       "      <th>Test Accuracy</th>\n",
       "    </tr>\n",
       "  </thead>\n",
       "  <tbody>\n",
       "    <tr>\n",
       "      <th>0</th>\n",
       "      <td>Logistic Regression</td>\n",
       "      <td>0.612350</td>\n",
       "      <td>0.911529</td>\n",
       "      <td>0.908524</td>\n",
       "    </tr>\n",
       "    <tr>\n",
       "      <th>1</th>\n",
       "      <td>Decision Tree</td>\n",
       "      <td>0.282974</td>\n",
       "      <td>0.999965</td>\n",
       "      <td>0.883915</td>\n",
       "    </tr>\n",
       "    <tr>\n",
       "      <th>2</th>\n",
       "      <td>Support Vector Machine</td>\n",
       "      <td>21.961259</td>\n",
       "      <td>0.919127</td>\n",
       "      <td>0.911358</td>\n",
       "    </tr>\n",
       "    <tr>\n",
       "      <th>3</th>\n",
       "      <td>K Nearest Neighbors</td>\n",
       "      <td>0.001256</td>\n",
       "      <td>0.930576</td>\n",
       "      <td>0.902777</td>\n",
       "    </tr>\n",
       "  </tbody>\n",
       "</table>\n",
       "</div>"
      ],
      "text/plain": [
       "                    Model  Train Time  Train Accuracy  Test Accuracy\n",
       "0     Logistic Regression    0.612350        0.911529       0.908524\n",
       "1           Decision Tree    0.282974        0.999965       0.883915\n",
       "2  Support Vector Machine   21.961259        0.919127       0.911358\n",
       "3     K Nearest Neighbors    0.001256        0.930576       0.902777"
      ]
     },
     "execution_count": 35,
     "metadata": {},
     "output_type": "execute_result"
    }
   ],
   "source": [
    "results = pd.DataFrame(scores_dict)\n",
    "results"
   ]
  },
  {
   "cell_type": "markdown",
   "metadata": {
    "id": "SwD-vq00N3mk"
   },
   "source": [
    "#### Hyperparameter tuning and grid search"
   ]
  },
  {
   "cell_type": "markdown",
   "metadata": {
    "id": "PImOte8GN78n"
   },
   "source": [
    "The right feature set and the transformations for best results have been identified.  \n",
    "Now  tune the hyper parameters using grid search."
   ]
  },
  {
   "cell_type": "code",
   "execution_count": 36,
   "metadata": {
    "colab": {
     "base_uri": "https://localhost:8080/",
     "height": 1000
    },
    "executionInfo": {
     "elapsed": 1967183,
     "status": "ok",
     "timestamp": 1706983292287,
     "user": {
      "displayName": "Girish Natarajan",
      "userId": "10926076535768638591"
     },
     "user_tz": 480
    },
    "id": "Tv0Tpfs7QEvm",
    "outputId": "bbc15490-b815-4d07-e8a0-f9b6fb25fb9a"
   },
   "outputs": [
    {
     "data": {
      "text/html": [
       "<div>\n",
       "<style scoped>\n",
       "    .dataframe tbody tr th:only-of-type {\n",
       "        vertical-align: middle;\n",
       "    }\n",
       "\n",
       "    .dataframe tbody tr th {\n",
       "        vertical-align: top;\n",
       "    }\n",
       "\n",
       "    .dataframe thead th {\n",
       "        text-align: right;\n",
       "    }\n",
       "</style>\n",
       "<table border=\"1\" class=\"dataframe\">\n",
       "  <thead>\n",
       "    <tr style=\"text-align: right;\">\n",
       "      <th></th>\n",
       "      <th>Model</th>\n",
       "      <th>Best Estimator</th>\n",
       "      <th>Train Time</th>\n",
       "      <th>Train Accuracy</th>\n",
       "      <th>Test Accuracy</th>\n",
       "    </tr>\n",
       "  </thead>\n",
       "  <tbody>\n",
       "    <tr>\n",
       "      <th>0</th>\n",
       "      <td>Logistic Regression</td>\n",
       "      <td>LogisticRegression()</td>\n",
       "      <td>0.318884</td>\n",
       "      <td>0.911529</td>\n",
       "      <td>0.908524</td>\n",
       "    </tr>\n",
       "    <tr>\n",
       "      <th>1</th>\n",
       "      <td>Decision Tree</td>\n",
       "      <td>DecisionTreeClassifier(max_depth=4)</td>\n",
       "      <td>0.158806</td>\n",
       "      <td>0.914617</td>\n",
       "      <td>0.910791</td>\n",
       "    </tr>\n",
       "    <tr>\n",
       "      <th>2</th>\n",
       "      <td>Support Vector Machine</td>\n",
       "      <td>SVC(gamma=0, kernel='linear')</td>\n",
       "      <td>52.330370</td>\n",
       "      <td>0.905041</td>\n",
       "      <td>0.904881</td>\n",
       "    </tr>\n",
       "    <tr>\n",
       "      <th>3</th>\n",
       "      <td>K Nearest Neighbors</td>\n",
       "      <td>KNeighborsClassifier(n_neighbors=np.int64(29))</td>\n",
       "      <td>0.012608</td>\n",
       "      <td>0.912049</td>\n",
       "      <td>0.907715</td>\n",
       "    </tr>\n",
       "  </tbody>\n",
       "</table>\n",
       "</div>"
      ],
      "text/plain": [
       "                    Model                                  Best Estimator  \\\n",
       "0     Logistic Regression                            LogisticRegression()   \n",
       "1           Decision Tree             DecisionTreeClassifier(max_depth=4)   \n",
       "2  Support Vector Machine                   SVC(gamma=0, kernel='linear')   \n",
       "3     K Nearest Neighbors  KNeighborsClassifier(n_neighbors=np.int64(29))   \n",
       "\n",
       "   Train Time  Train Accuracy  Test Accuracy  \n",
       "0    0.318884        0.911529       0.908524  \n",
       "1    0.158806        0.914617       0.910791  \n",
       "2   52.330370        0.905041       0.904881  \n",
       "3    0.012608        0.912049       0.907715  "
      ]
     },
     "execution_count": 36,
     "metadata": {},
     "output_type": "execute_result"
    }
   ],
   "source": [
    "estimators = {'Logistic Regression':LogisticRegression(),\n",
    "              'Decision Tree':DecisionTreeClassifier(),\n",
    "              'Support Vector Machine':SVC(),\n",
    "              'K Nearest Neighbors':KNeighborsClassifier()}\n",
    "scores_dict = {'Model':[], 'Best Estimator': [], 'Train Time':[], 'Train Accuracy':[], 'Test Accuracy':[]}\n",
    "param_grid = {}\n",
    "param_grid['K Nearest Neighbors'] = {'n_neighbors':np.arange(1,30)}\n",
    "param_grid['Logistic Regression'] = {'max_iter':[2,4,100,1000]}\n",
    "param_grid['Decision Tree'] = {'max_depth':[0,4,10,100]}\n",
    "param_grid['Support Vector Machine'] = {'kernel':['linear', 'rbf'], 'gamma': [-3,0, 3,30]}\n",
    "\n",
    "import time\n",
    "for estimator in estimators:\n",
    "  model = estimators[estimator].fit(X_train, y_train)\n",
    "  gscv = GridSearchCV(estimator=model, param_grid = param_grid[estimator], cv=5)\n",
    "  gscv.fit(X_train, y_train)\n",
    "\n",
    "\n",
    "  scores_dict['Model'].append(estimator)\n",
    "  scores_dict['Best Estimator'].append(gscv.best_estimator_)\n",
    "  scores_dict['Train Accuracy'].append(gscv.best_estimator_.score(X_train, y_train))\n",
    "  scores_dict['Test Accuracy'].append(gscv.best_estimator_.score(X_test, y_test))\n",
    "  scores_dict['Train Time'].append(gscv.cv_results_['mean_fit_time'].mean())\n",
    "\n",
    "results = pd.DataFrame(scores_dict)\n",
    "results"
   ]
  },
  {
   "cell_type": "markdown",
   "metadata": {
    "id": "mHGYdB7HliXI"
   },
   "source": [
    "Based on the Grid Search, Decision Tree with max_depth of 4 provided the highest Train and Test accuracy with minimal training time.  \n",
    "This model beats the accuracy of the baseline model by around 3%."
   ]
  },
  {
   "cell_type": "markdown",
   "metadata": {
    "id": "1b5ku8gjqg8P"
   },
   "source": [
    "#### Adjusting the performance metric"
   ]
  },
  {
   "cell_type": "markdown",
   "metadata": {
    "id": "cwb_xChdqtdF"
   },
   "source": [
    "With the winning model, we can check how the model performed in terms of precision, recall and other performance measures"
   ]
  },
  {
   "cell_type": "code",
   "execution_count": 37,
   "metadata": {
    "colab": {
     "base_uri": "https://localhost:8080/",
     "height": 472
    },
    "executionInfo": {
     "elapsed": 599,
     "status": "ok",
     "timestamp": 1706983292875,
     "user": {
      "displayName": "Girish Natarajan",
      "userId": "10926076535768638591"
     },
     "user_tz": 480
    },
    "id": "SA4t2VKRqsW4",
    "outputId": "062b09b4-a3ea-4b1d-9efe-ba33253b7eaa"
   },
   "outputs": [
    {
     "data": {
      "image/png": "[encoded data removed]",
      "text/plain": [
       "<Figure size 640x480 with 2 Axes>"
      ]
     },
     "metadata": {},
     "output_type": "display_data"
    }
   ],
   "source": [
    "dtree_4 = DecisionTreeClassifier(max_depth=4).fit(X_train, y_train)\n",
    "disp = ConfusionMatrixDisplay.from_estimator(dtree_4, X_test, y_test)\n",
    "disp.ax_.set_title('Confusion Matrix with Best Decision Tree Classifier')\n",
    "plt.show()"
   ]
  },
  {
   "cell_type": "markdown",
   "metadata": {},
   "source": [
    "##### Next build the ROC curve and ROC AUC score for the Decision Tree and Logistic Regression Models"
   ]
  },
  {
   "cell_type": "code",
   "execution_count": 38,
   "metadata": {
    "colab": {
     "base_uri": "https://localhost:8080/",
     "height": 490
    },
    "executionInfo": {
     "elapsed": 340,
     "status": "ok",
     "timestamp": 1706983293212,
     "user": {
      "displayName": "Girish Natarajan",
      "userId": "10926076535768638591"
     },
     "user_tz": 480
    },
    "id": "uFHgkFoaQEvm",
    "outputId": "13126f81-6c4a-42c1-a1ac-481be3b948b7"
   },
   "outputs": [
    {
     "data": {
      "image/png": "[encoded data removed]",
      "text/plain": [
       "<Figure size 640x480 with 1 Axes>"
      ]
     },
     "metadata": {},
     "output_type": "display_data"
    },
    {
     "name": "stdout",
     "output_type": "stream",
     "text": [
      "AUC: 0.911751303103712\n"
     ]
    }
   ],
   "source": [
    "from sklearn.metrics import roc_curve, roc_auc_score\n",
    "\n",
    "# Calculate the ROC curve\n",
    "fpr, tpr, thresholds = roc_curve(y, dtree_4.predict_proba(X)[:, 1])\n",
    "\n",
    "# Plot the ROC curve\n",
    "plt.plot(fpr, tpr, label='ROC curve')\n",
    "plt.xlabel('False Positive Rate')\n",
    "plt.ylabel('True Positive Rate')\n",
    "plt.title('ROC Curve for Decision Tree Model')\n",
    "plt.legend()\n",
    "plt.show()\n",
    "\n",
    "# Calculate the AUC\n",
    "auc = roc_auc_score(y, dtree_4.predict_proba(X)[:, 1])\n",
    "print('AUC:', auc)"
   ]
  },
  {
   "cell_type": "code",
   "execution_count": 39,
   "metadata": {
    "colab": {
     "base_uri": "https://localhost:8080/",
     "height": 634
    },
    "executionInfo": {
     "elapsed": 535,
     "status": "ok",
     "timestamp": 1706983293737,
     "user": {
      "displayName": "Girish Natarajan",
      "userId": "10926076535768638591"
     },
     "user_tz": 480
    },
    "id": "UlbdFW5CsIBt",
    "outputId": "7375e1c3-0839-472a-b183-42836292134c"
   },
   "outputs": [
    {
     "data": {
      "image/png": "[encoded data removed]",
      "text/plain": [
       "<Figure size 640x480 with 1 Axes>"
      ]
     },
     "metadata": {},
     "output_type": "display_data"
    },
    {
     "name": "stdout",
     "output_type": "stream",
     "text": [
      "AUC: 0.9361868351590465\n"
     ]
    }
   ],
   "source": [
    "from sklearn.metrics import roc_curve, roc_auc_score\n",
    "\n",
    "lr_model = LogisticRegression().fit(X_train, y_train)\n",
    "\n",
    "# Calculate the ROC curve\n",
    "fpr, tpr, thresholds = roc_curve(y, lr_model.predict_proba(X)[:, 1])\n",
    "\n",
    "# Plot the ROC curve\n",
    "plt.plot(fpr, tpr, label='ROC curve')\n",
    "plt.xlabel('False Positive Rate')\n",
    "plt.ylabel('True Positive Rate')\n",
    "plt.title('ROC Curve for Logistic Regression Model')\n",
    "plt.legend()\n",
    "plt.show()\n",
    "\n",
    "# Calculate the AUC\n",
    "auc = roc_auc_score(y, lr_model.predict_proba(X)[:, 1])\n",
    "print('AUC:', auc)"
   ]
  },
  {
   "cell_type": "markdown",
   "metadata": {
    "id": "K150K1lAsh8H"
   },
   "source": [
    "Note that the Logistic Regression model has a better AUC of 0.94 which is better than the AUC of 0.91 of the Decision Tree model, even though Decision Tree has better accuracy than Logistic Regression. "
   ]
  },
  {
   "cell_type": "markdown",
   "metadata": {
    "id": "CWwD92D0QEvm"
   },
   "source": [
    "##### Questions"
   ]
  },
  {
   "cell_type": "code",
   "execution_count": null,
   "metadata": {},
   "outputs": [],
   "source": []
  }
 ],
 "metadata": {
  "colab": {
   "provenance": []
  },
  "kernelspec": {
   "display_name": "Python 3 (ipykernel)",
   "language": "python",
   "name": "python3"
  },
  "language_info": {
   "codemirror_mode": {
    "name": "ipython",
    "version": 3
   },
   "file_extension": ".py",
   "mimetype": "text/x-python",
   "name": "python",
   "nbconvert_exporter": "python",
   "pygments_lexer": "ipython3",
   "version": "3.12.4"
  }
 },
 "nbformat": 4,
 "nbformat_minor": 4
}
